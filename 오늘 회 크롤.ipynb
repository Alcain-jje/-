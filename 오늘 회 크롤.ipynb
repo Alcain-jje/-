{
 "cells": [
  {
   "cell_type": "code",
   "execution_count": 1,
   "metadata": {},
   "outputs": [],
   "source": [
    "from selenium import webdriver\n",
    "from bs4 import BeautifulSoup\n",
    "\n",
    "import pandas as pd\n",
    "import time\n",
    "\n"
   ]
  },
  {
   "cell_type": "markdown",
   "metadata": {},
   "source": [
    "# 오늘의 회 크롤링 "
   ]
  },
  {
   "cell_type": "code",
   "execution_count": 2,
   "metadata": {},
   "outputs": [
    {
     "name": "stdout",
     "output_type": "stream",
     "text": [
      "<div class=\"card_detail\">\n",
      "<div class=\"title\">굴전골 </div>\n",
      "<div class=\"price\">11,900<span class=\"unit\">원</span></div>\n",
      "<div class=\"product_status_wrapper\">\n",
      "<div class=\"rate_wrapper\"><span class=\"fa fa-star\"></span><span class=\"star_point\">4.7</span></div>\n",
      "<div class=\"review_wrapper\"><span class=\"title\">· 후기</span><span class=\"count\">30</span></div>\n",
      "</div>\n",
      "</div>\n",
      "<div class=\"card_detail\">\n",
      "<div class=\"title\">생굴 150g </div>\n",
      "<div class=\"price\">5,900<span class=\"unit\">원</span></div>\n",
      "<div class=\"product_status_wrapper\">\n",
      "<div class=\"rate_wrapper\"><span class=\"fa fa-star\"></span><span class=\"star_point\">4.8</span></div>\n",
      "<div class=\"review_wrapper\"><span class=\"title\">· 후기</span><span class=\"count\">139</span></div>\n",
      "</div>\n",
      "</div>\n",
      "<div class=\"card_detail\">\n",
      "<div class=\"title\">[통영] 석화(하프쉘) </div>\n",
      "<div class=\"price\">18,900<span class=\"unit\">원</span></div>\n",
      "<div class=\"product_status_wrapper\">\n",
      "<div class=\"rate_wrapper\"><span class=\"fa fa-star\"></span><span class=\"star_point\">4.6</span></div>\n",
      "<div class=\"review_wrapper\"><span class=\"title\">· 후기</span><span class=\"count\">397</span></div>\n",
      "</div>\n",
      "</div>\n",
      "<div class=\"card_detail\">\n",
      "<div class=\"title\">이배체굴 </div>\n",
      "<div class=\"price\">9,900<span class=\"unit\">원</span></div>\n",
      "<div class=\"product_status_wrapper\">\n",
      "<div class=\"rate_wrapper\"><span class=\"fa fa-star\"></span><span class=\"star_point\">4.4</span></div>\n",
      "<div class=\"review_wrapper\"><span class=\"title\">· 후기</span><span class=\"count\">60</span></div>\n",
      "</div>\n",
      "</div>\n",
      "<div class=\"card_detail\">\n",
      "<div class=\"title\">굴삼합 </div>\n",
      "<div class=\"price\">19,900<span class=\"unit\">원</span></div>\n",
      "<div class=\"product_status_wrapper\">\n",
      "<div class=\"rate_wrapper\"><span class=\"fa fa-star\"></span><span class=\"star_point\">4.5</span></div>\n",
      "<div class=\"review_wrapper\"><span class=\"title\">· 후기</span><span class=\"count\">17</span></div>\n",
      "</div>\n",
      "</div>\n",
      "<div class=\"card_detail\">\n",
      "<div class=\"title\">쪄먹는 보리굴비 </div>\n",
      "<div class=\"price\">29,900<span class=\"unit\">원</span></div>\n",
      "<div class=\"product_status_wrapper\">\n",
      "<div class=\"rate_wrapper\"><span class=\"fa fa-star\"></span><span class=\"star_point\">5.0</span></div>\n",
      "<div class=\"review_wrapper\"><span class=\"title\">· 후기</span><span class=\"count\">8</span></div>\n",
      "</div>\n",
      "</div>\n",
      "<div class=\"card_detail\">\n",
      "<div class=\"title\">얼큰한 굴짬뽕 </div>\n",
      "<div class=\"price\">9,900<span class=\"unit\">원</span></div>\n",
      "<div class=\"product_status_wrapper\">\n",
      "<div class=\"rate_wrapper\"><span class=\"fa fa-star\"></span><span class=\"star_point\">4.8</span></div>\n",
      "<div class=\"review_wrapper\"><span class=\"title\">· 후기</span><span class=\"count\">88</span></div>\n",
      "</div>\n",
      "</div>\n",
      "<div class=\"card_detail\">\n",
      "<div class=\"title\">[설선물] 프리미엄 삼배체굴 </div>\n",
      "<div class=\"price\">44,900<span class=\"unit\">원</span></div>\n",
      "<div class=\"product_status_wrapper\">\n",
      "</div>\n",
      "</div>\n"
     ]
    }
   ],
   "source": [
    "driver = webdriver.Chrome(\"C:\\\\Users\\\\ox797\\\\Desktop\\\\python\\\\chromedriver.exe\")\n",
    "driver.get(\"https://www.onul-hoi.com/shop/searches/result?name=%EA%B5%B4\")\n",
    "time.sleep(5) \n",
    "\n",
    "#a = driver.find_element_by_xpath(\"//*[@id='searchOptionForm']/div[2]/div[2]/div[5]/span[2]/a[3]\")\n",
    "#a.click()\n",
    "\n",
    "    \n",
    "html=driver.page_source\n",
    "soup = BeautifulSoup(html,\"html.parser\")\n",
    "\n",
    "\n",
    "#res = soup.find_all(\"div\", {\"class\":\"card_detail\"})\n",
    "res = soup.find_all(\"div\", {\"class\":\"card_detail\"})\n",
    "#res=rs.find_all(\"a\",{\"class\":\"title\"})\n",
    "\n",
    "\n",
    "for n in res:\n",
    "#.get_text()\n",
    "    print(n)"
   ]
  },
  {
   "cell_type": "code",
   "execution_count": 61,
   "metadata": {},
   "outputs": [
    {
     "data": {
      "text/plain": [
       "[<div class=\"title\"></div>,\n",
       " <div class=\"title\">무엇을 찾고 계신가요?</div>,\n",
       " <div class=\"title\">관련 기획전</div>,\n",
       " <div class=\"title\">특별한 날, 신선한 선물</div>,\n",
       " <div class=\"title\">오늘회 AI가 추천하는 메뉴</div>,\n",
       " <div class=\"title\"><span>전체 </span><span id=\"totalCount\">7</span></div>,\n",
       " <div class=\"title\">생굴 150g </div>,\n",
       " <span class=\"title\">· 후기</span>,\n",
       " <div class=\"title\">굴삼합 </div>,\n",
       " <span class=\"title\">· 후기</span>,\n",
       " <div class=\"title\">쪄먹는 보리굴비 </div>,\n",
       " <span class=\"title\">· 후기</span>,\n",
       " <div class=\"title\">얼큰한 굴짬뽕 </div>,\n",
       " <span class=\"title\">· 후기</span>,\n",
       " <div class=\"title\">[통영] 석화(하프쉘) </div>,\n",
       " <span class=\"title\">· 후기</span>,\n",
       " <div class=\"title\">굴전골 </div>,\n",
       " <span class=\"title\">· 후기</span>,\n",
       " <div class=\"title\">이배체굴 </div>,\n",
       " <span class=\"title\">· 후기</span>]"
      ]
     },
     "execution_count": 61,
     "metadata": {},
     "output_type": "execute_result"
    }
   ],
   "source": [
    "ss= BeautifulSoup(html,\"html.parser\")\n",
    "ss.select('.title')"
   ]
  },
  {
   "cell_type": "code",
   "execution_count": 62,
   "metadata": {},
   "outputs": [
    {
     "data": {
      "text/plain": [
       "[<div class=\"title\">생굴 150g </div>,\n",
       " <div class=\"title\">굴삼합 </div>,\n",
       " <div class=\"title\">쪄먹는 보리굴비 </div>,\n",
       " <div class=\"title\">얼큰한 굴짬뽕 </div>,\n",
       " <div class=\"title\">[통영] 석화(하프쉘) </div>,\n",
       " <div class=\"title\">굴전골 </div>,\n",
       " <div class=\"title\">이배체굴 </div>]"
      ]
     },
     "execution_count": 62,
     "metadata": {},
     "output_type": "execute_result"
    }
   ],
   "source": [
    "ss.select('div.card_detail>div.title')"
   ]
  },
  {
   "cell_type": "code",
   "execution_count": 63,
   "metadata": {},
   "outputs": [],
   "source": [
    "a=ss.select('div.card_detail>div.title')"
   ]
  },
  {
   "cell_type": "code",
   "execution_count": 73,
   "metadata": {},
   "outputs": [],
   "source": [
    "b=ss.select('div.price')"
   ]
  },
  {
   "cell_type": "code",
   "execution_count": 74,
   "metadata": {},
   "outputs": [
    {
     "data": {
      "text/plain": [
       "[<div class=\"price\">5,900<span class=\"unit\">원</span></div>,\n",
       " <div class=\"price\">19,900<span class=\"unit\">원</span></div>,\n",
       " <div class=\"price\">29,900<span class=\"unit\">원</span></div>,\n",
       " <div class=\"price\">9,900<span class=\"unit\">원</span></div>,\n",
       " <div class=\"price\">18,900<span class=\"unit\">원</span></div>,\n",
       " <div class=\"price\">11,900<span class=\"unit\">원</span></div>,\n",
       " <div class=\"price\">9,900<span class=\"unit\">원</span></div>]"
      ]
     },
     "execution_count": 74,
     "metadata": {},
     "output_type": "execute_result"
    }
   ],
   "source": [
    "b"
   ]
  },
  {
   "cell_type": "code",
   "execution_count": 83,
   "metadata": {},
   "outputs": [],
   "source": [
    "#j=pd.DataFrame({'이름':[]})"
   ]
  },
  {
   "cell_type": "code",
   "execution_count": 81,
   "metadata": {},
   "outputs": [],
   "source": [
    "res = soup.find_all(class_='price')\n",
    "\n",
    "f=[]\n",
    "for n in res:\n",
    "#.get_text()\n",
    "    n=n.get_text()\n",
    "    f.append(n)"
   ]
  },
  {
   "cell_type": "code",
   "execution_count": 82,
   "metadata": {},
   "outputs": [
    {
     "data": {
      "text/plain": [
       "['5,900원', '19,900원', '29,900원', '9,900원', '18,900원', '11,900원', '9,900원']"
      ]
     },
     "execution_count": 82,
     "metadata": {},
     "output_type": "execute_result"
    }
   ],
   "source": [
    "f"
   ]
  },
  {
   "cell_type": "code",
   "execution_count": 83,
   "metadata": {},
   "outputs": [],
   "source": [
    "c=[]\n",
    "\n",
    "for pa in a:\n",
    "  \n",
    "    d=pa.get_text()   \n",
    "    c.append(d)\n",
    "\n",
    "    \n",
    "    #j=pd.DataFrame({'이름':[d]})\n",
    "   "
   ]
  },
  {
   "cell_type": "code",
   "execution_count": 84,
   "metadata": {},
   "outputs": [
    {
     "data": {
      "text/plain": [
       "['생굴 150g ', '굴삼합 ', '쪄먹는 보리굴비 ', '얼큰한 굴짬뽕 ', '[통영] 석화(하프쉘) ', '굴전골 ', '이배체굴 ']"
      ]
     },
     "execution_count": 84,
     "metadata": {},
     "output_type": "execute_result"
    }
   ],
   "source": [
    "c"
   ]
  },
  {
   "cell_type": "code",
   "execution_count": 85,
   "metadata": {},
   "outputs": [],
   "source": [
    "data=list(zip(c,f))"
   ]
  },
  {
   "cell_type": "code",
   "execution_count": 86,
   "metadata": {},
   "outputs": [
    {
     "data": {
      "text/plain": [
       "[('생굴 150g ', '5,900원'),\n",
       " ('굴삼합 ', '19,900원'),\n",
       " ('쪄먹는 보리굴비 ', '29,900원'),\n",
       " ('얼큰한 굴짬뽕 ', '9,900원'),\n",
       " ('[통영] 석화(하프쉘) ', '18,900원'),\n",
       " ('굴전골 ', '11,900원'),\n",
       " ('이배체굴 ', '9,900원')]"
      ]
     },
     "execution_count": 86,
     "metadata": {},
     "output_type": "execute_result"
    }
   ],
   "source": [
    "data"
   ]
  },
  {
   "cell_type": "code",
   "execution_count": 87,
   "metadata": {},
   "outputs": [],
   "source": [
    "data=pd.DataFrame(data)\n",
    "data.to_excel(excel_writer='hae.xlsx')"
   ]
  },
  {
   "cell_type": "code",
   "execution_count": 7,
   "metadata": {},
   "outputs": [
    {
     "name": "stdout",
     "output_type": "stream",
     "text": [
      "['생굴 150g ', '굴삼합 ', '쪄먹는 보리굴비 ', '얼큰한 굴짬뽕 ', '[통영] 석화(하프쉘) ', '굴전골 ', '이배체굴 ']\n"
     ]
    }
   ],
   "source": [
    "print(c)\n",
    "c=pd.DataFrame(c)\n",
    "#raw.to_excel(excel_writer='sample2.xlsx')"
   ]
  },
  {
   "cell_type": "code",
   "execution_count": 94,
   "metadata": {},
   "outputs": [],
   "source": [
    "#c=pd.DataFrame({'이름':[c]})\n",
    "c=pd.DataFrame({'이름'},c)\n",
    "c.to_excel(excel_writer='오늘회.xlsx')"
   ]
  },
  {
   "cell_type": "raw",
   "metadata": {},
   "source": []
  },
  {
   "cell_type": "markdown",
   "metadata": {},
   "source": [
    "# 마켓컬리 "
   ]
  },
  {
   "cell_type": "code",
   "execution_count": 107,
   "metadata": {},
   "outputs": [
    {
     "name": "stdout",
     "output_type": "stream",
     "text": [
      "<div class=\"inner_listgoods\"><ul class=\"list\"><li><div class=\"item\"><div class=\"thumb\"><a class=\"img\" style='background-image: url(\"https://img-cf.kurly.com/shop/data/goods/1527232283193l0.jpg\");'><!-- --> <img alt=\"사시사철 신선한게 즐기는\" height=\"396\" onerror=\"this.src='https://res.kurly.com/mobile/img/1808/img_none_x2.png'\" src=\"https://img-cf.kurly.com/shop/data/goods/1527232283193l0.jpg\" width=\"308\"/></a> <!-- --> <span class=\"global_sticker\" style=\"display: none;\"><span class=\"inner_sticker\"><span class=\"bg_sticker\"></span> <span class=\"txt_sticker\"><span class=\"emph_sticker\">1+2</span> 이벤트</span></span></span> <!-- --> <div class=\"group_btn\"><button class=\"btn btn_cart\" type=\"button\"><span class=\"screen_out\">25954</span></button> <!-- --> <!-- --></div></div> <a class=\"info\"><span class=\"name\">                    [중앙씨푸드] 통영 굴 350g(냉동)                </span> <span class=\"cost\"><span class=\"price\">5,300원</span> <!-- --></span> <span class=\"desc\">사시사철 신선한게 즐기는</span> <span class=\"tag\"><!-- --></span></a></div></li><li><div class=\"item\"><div class=\"thumb\"><a class=\"img\" style='background-image: url(\"https://img-cf.kurly.com/shop/data/goods/1576563383355l0.jpg\");'><!-- --> <img alt=\"입 안 가득 퍼지는 담백한 감칠맛\" height=\"396\" onerror=\"this.src='https://res.kurly.com/mobile/img/1808/img_none_x2.png'\" src=\"https://img-cf.kurly.com/shop/data/goods/1576563383355l0.jpg\" width=\"308\"/></a> <!-- --> <span class=\"global_sticker\" style=\"display: none;\"><span class=\"inner_sticker\"><span class=\"bg_sticker\"></span> <span class=\"txt_sticker\"><span class=\"emph_sticker\">1+2</span> 이벤트</span></span></span> <!-- --> <div class=\"group_btn\"><button class=\"btn btn_cart\" type=\"button\"><span class=\"screen_out\">44717</span></button> <!-- --> <!-- --></div></div> <a class=\"info\"><span class=\"name\">                    [삼삼물산] 프리미엄 왕큰 굴 200g(대굴, 냉장)                </span> <span class=\"cost\"><span class=\"price\">6,900원</span> <!-- --></span> <span class=\"desc\">입 안 가득 퍼지는 담백한 감칠맛</span> <span class=\"tag\"><span class=\"ico limit\">Kurly only</span><span class=\"ico limit\">한정수량</span></span></a></div></li><li><div class=\"item\"><div class=\"thumb\"><a class=\"img\" style='background-image: url(\"https://img-cf.kurly.com/shop/data/goods/1589870232579l0.jpg\");'><!-- --> <img alt=\"밥에 담긴 바다의 향\" height=\"396\" onerror=\"this.src='https://res.kurly.com/mobile/img/1808/img_none_x2.png'\" src=\"https://img-cf.kurly.com/shop/data/goods/1589870232579l0.jpg\" width=\"308\"/></a> <!-- --> <span class=\"global_sticker\" style=\"display: none;\"><span class=\"inner_sticker\"><span class=\"bg_sticker\"></span> <span class=\"txt_sticker\"><span class=\"emph_sticker\">1+2</span> 이벤트</span></span></span> <!-- --> <div class=\"group_btn\"><button class=\"btn btn_cart\" type=\"button\"><span class=\"screen_out\">51964</span></button> <!-- --> <!-- --></div></div> <a class=\"info\"><span class=\"name\">                    [삼삼물산] 굴밥용 생굴 200g(냉장)                </span> <span class=\"cost\"><span class=\"price\">7,900원</span> <!-- --></span> <span class=\"desc\">밥에 담긴 바다의 향</span> <span class=\"tag\"><span class=\"ico limit\">Kurly only</span></span></a></div></li><li><div class=\"item\"><div class=\"thumb\"><a class=\"img\" style='background-image: url(\"https://img-cf.kurly.com/shop/data/goods/1589781272199l0.jpg\");'><!-- --> <img alt=\"따끈하면서도 시원한 한 그릇\" height=\"396\" onerror=\"this.src='https://res.kurly.com/mobile/img/1808/img_none_x2.png'\" src=\"https://img-cf.kurly.com/shop/data/goods/1589781272199l0.jpg\" width=\"308\"/></a> <!-- --> <span class=\"global_sticker\" style=\"display: none;\"><span class=\"inner_sticker\"><span class=\"bg_sticker\"></span> <span class=\"txt_sticker\"><span class=\"emph_sticker\">1+2</span> 이벤트</span></span></span> <!-- --> <div class=\"group_btn\"><button class=\"btn btn_cart\" type=\"button\"><span class=\"screen_out\">51965</span></button> <!-- --> <!-- --></div></div> <a class=\"info\"><span class=\"name\">                    [삼삼물산] 굴국용 생굴 200g(냉장)                </span> <span class=\"cost\"><span class=\"price\">7,900원</span> <!-- --></span> <span class=\"desc\">따끈하면서도 시원한 한 그릇</span> <span class=\"tag\"><span class=\"ico limit\">Kurly only</span></span></a></div></li><li><div class=\"item\"><div class=\"thumb\"><a class=\"img\" style='background-image: url(\"https://img-cf.kurly.com/shop/data/goods/1576561898773l0.jpg\");'><!-- --> <img alt=\"통영 앞바다에서 온 우윳빛 선물\" height=\"396\" onerror=\"this.src='https://res.kurly.com/mobile/img/1808/img_none_x2.png'\" src=\"https://img-cf.kurly.com/shop/data/goods/1576561898773l0.jpg\" width=\"308\"/></a> <!-- --> <span class=\"global_sticker\" style=\"display: none;\"><span class=\"inner_sticker\"><span class=\"bg_sticker\"></span> <span class=\"txt_sticker\"><span class=\"emph_sticker\">1+2</span> 이벤트</span></span></span> <!-- --> <div class=\"group_btn\"><button class=\"btn btn_cart\" type=\"button\"><span class=\"screen_out\">44716</span></button> <!-- --> <!-- --></div></div> <a class=\"info\"><span class=\"name\">                    [삼삼물산] 전 국민이 좋아하는 통영굴 200g 내외(중굴, 냉장)                </span> <span class=\"cost\"><span class=\"price\">7,900원</span> <!-- --></span> <span class=\"desc\">통영 앞바다에서 온 우윳빛 선물</span> <span class=\"tag\"><span class=\"ico limit\">Kurly only</span></span></a></div></li><li><div class=\"item\"><div class=\"thumb\"><a class=\"img\" style='background-image: url(\"https://img-cf.kurly.com/shop/data/goods/1508466502220l0.jpg\");'><!-- --> <img alt=\"맛과 영양이 가득한 명품 굴\" height=\"396\" onerror=\"this.src='https://res.kurly.com/mobile/img/1808/img_none_x2.png'\" src=\"https://img-cf.kurly.com/shop/data/goods/1508466502220l0.jpg\" width=\"308\"/></a> <!-- --> <span class=\"global_sticker\" style=\"display: none;\"><span class=\"inner_sticker\"><span class=\"bg_sticker\"></span> <span class=\"txt_sticker\"><span class=\"emph_sticker\">1+2</span> 이벤트</span></span></span> <!-- --> <div class=\"group_btn\"><button class=\"btn btn_cart\" type=\"button\"><span class=\"screen_out\">9542</span></button> <!-- --> <!-- --></div></div> <a class=\"info\"><span class=\"name\">                    [중앙씨푸드] 생굴 150g(냉장)                </span> <span class=\"cost\"><span class=\"price\">4,900원</span> <!-- --></span> <span class=\"desc\">맛과 영양이 가득한 명품 굴</span> <span class=\"tag\"><!-- --></span></a></div></li><li><div class=\"item\"><div class=\"thumb\"><a class=\"img\" style='background-image: url(\"https://img-cf.kurly.com/shop/data/goods/1603437732483l0.jpg\");'><!-- --> <img alt=\"통영 바다의 신선함을 머금은\" height=\"396\" onerror=\"this.src='https://res.kurly.com/mobile/img/1808/img_none_x2.png'\" src=\"https://img-cf.kurly.com/shop/data/goods/1603437732483l0.jpg\" width=\"308\"/></a> <!-- --> <span class=\"global_sticker\" style=\"display: none;\"><span class=\"inner_sticker\"><span class=\"bg_sticker\"></span> <span class=\"txt_sticker\"><span class=\"emph_sticker\">1+2</span> 이벤트</span></span></span> <!-- --> <div class=\"group_btn\"><button class=\"btn btn_cart\" type=\"button\"><span class=\"screen_out\">60765</span></button> <!-- --> <!-- --></div></div> <a class=\"info\"><span class=\"name\">                    [삼삼물산] 신선한 국산 생굴 260g(냉장)                </span> <span class=\"cost\"><span class=\"price\">7,500원</span> <!-- --></span> <span class=\"desc\">통영 바다의 신선함을 머금은</span> <span class=\"tag\"><!-- --></span></a></div></li><li><div class=\"item\"><div class=\"thumb\"><a class=\"img\" style='background-image: url(\"https://img-cf.kurly.com/shop/data/goods/1603955856896l0.jpg\");'><!-- --> <img alt=\"유통 이력을 한눈에 보는 생굴\" height=\"396\" onerror=\"this.src='https://res.kurly.com/mobile/img/1808/img_none_x2.png'\" src=\"https://img-cf.kurly.com/shop/data/goods/1603955856896l0.jpg\" width=\"308\"/></a> <span class=\"ico\"><img alt=\"SAVE 아이콘\" src=\"https://img-cf.kurly.com/shop/data/my_icon/icon_save_25.png\"/></span> <span class=\"global_sticker\" style=\"display: none;\"><span class=\"inner_sticker\"><span class=\"bg_sticker\"></span> <span class=\"txt_sticker\"><span class=\"emph_sticker\">1+2</span> 이벤트</span></span></span> <!-- --> <div class=\"group_btn\"><button class=\"btn btn_cart\" type=\"button\"><span class=\"screen_out\">60764</span></button> <!-- --> <!-- --></div></div> <a class=\"info\"><span class=\"name\">                    [삼삼물산] 이력제 국산 생굴 135g(냉장)                </span> <span class=\"cost\"><span class=\"price\">2,925원</span> <span class=\"original\">3,900원</span></span> <span class=\"desc\">유통 이력을 한눈에 보는 생굴</span> <span class=\"tag\"><!-- --></span></a></div></li><li><div class=\"item\"><div class=\"thumb\"><a class=\"img\" style='background-image: url(\"https://img-cf.kurly.com/shop/data/goods/1606792299244l0.jpg\");'><!-- --> <img alt=\"넉넉하게 담은 중굴\" height=\"396\" onerror=\"this.src='https://res.kurly.com/mobile/img/1808/img_none_x2.png'\" src=\"https://img-cf.kurly.com/shop/data/goods/1606792299244l0.jpg\" width=\"308\"/></a> <span class=\"ico\"><img alt=\"SAVE 아이콘\" src=\"https://img-cf.kurly.com/shop/data/my_icon/icon_save_30.png\"/></span> <span class=\"global_sticker\" style=\"display: none;\"><span class=\"inner_sticker\"><span class=\"bg_sticker\"></span> <span class=\"txt_sticker\"><span class=\"emph_sticker\">1+2</span> 이벤트</span></span></span> <!-- --> <div class=\"group_btn\"><button class=\"btn btn_cart\" type=\"button\"><span class=\"screen_out\">61679</span></button> <!-- --> <!-- --></div></div> <a class=\"info\"><span class=\"name\">                    [삼삼물산] 온 가족이 즐기는 통영굴 900g내외(냉장)                </span> <span class=\"cost\"><span class=\"price\">23,100원</span> <span class=\"original\">33,000원</span></span> <span class=\"desc\">넉넉하게 담은 중굴</span> <span class=\"tag\"><span class=\"ico limit\">Kurly only</span></span></a></div></li><li><div class=\"item\"><div class=\"thumb\"><a class=\"img\" style='background-image: url(\"https://img-cf.kurly.com/shop/data/goods/1606803254339l0.jpg\");'><!-- --> <img alt=\"집에서 즐기는 세련된 오이스터 바\" height=\"396\" onerror=\"this.src='https://res.kurly.com/mobile/img/1808/img_none_x2.png'\" src=\"https://img-cf.kurly.com/shop/data/goods/1606803254339l0.jpg\" width=\"308\"/></a> <span class=\"ico\"><img alt=\"SAVE 아이콘\" src=\"https://img-cf.kurly.com/shop/data/my_icon/icon_save_15.png\"/></span> <span class=\"global_sticker\" style=\"display: none;\"><span class=\"inner_sticker\"><span class=\"bg_sticker\"></span> <span class=\"txt_sticker\"><span class=\"emph_sticker\">1+2</span> 이벤트</span></span></span> <!-- --> <div class=\"group_btn\"><button class=\"btn btn_cart\" type=\"button\"><span class=\"screen_out\">61675</span></button> <!-- --> <!-- --></div></div> <a class=\"info\"><span class=\"name\">                    [삼삼물산] 트리플로이드 오이스터(개체굴) 2kg(생물)                </span> <span class=\"cost\"><span class=\"price\">41,650원</span> <span class=\"original\">49,000원</span></span> <span class=\"desc\">집에서 즐기는 세련된 오이스터 바</span> <span class=\"tag\"><span class=\"ico limit\">Kurly only</span></span></a></div></li><li><div class=\"item\"><div class=\"thumb\"><a class=\"img\" style='background-image: url(\"https://img-cf.kurly.com/shop/data/goods/1532496254711l0.jpg\");'><!-- --> <img alt=\"굴 본연의 담백한 감칠맛이 쏙쏙!\" height=\"396\" onerror=\"this.src='https://res.kurly.com/mobile/img/1808/img_none_x2.png'\" src=\"https://img-cf.kurly.com/shop/data/goods/1532496254711l0.jpg\" width=\"308\"/></a> <!-- --> <span class=\"global_sticker\" style=\"display: none;\"><span class=\"inner_sticker\"><span class=\"bg_sticker\"></span> <span class=\"txt_sticker\"><span class=\"emph_sticker\">1+2</span> 이벤트</span></span></span> <!-- --> <div class=\"group_btn\"><button class=\"btn btn_cart\" type=\"button\"><span class=\"screen_out\">27296</span></button> <!-- --> <!-- --></div></div> <a class=\"info\"><span class=\"name\">                    [해통령] 천연 굴 분말 70g(냉장)                </span> <span class=\"cost\"><span class=\"price\">7,200원</span> <!-- --></span> <span class=\"desc\">굴 본연의 담백한 감칠맛이 쏙쏙!</span> <span class=\"tag\"><!-- --></span></a></div></li><li><div class=\"item\"><div class=\"thumb\"><a class=\"img\" style='background-image: url(\"https://img-cf.kurly.com/shop/data/goods/1572326827963l0.jpg\");'><!-- --> <img alt=\"굴의 풍미를 머금은 맑은탕\" height=\"396\" onerror=\"this.src='https://res.kurly.com/mobile/img/1808/img_none_x2.png'\" src=\"https://img-cf.kurly.com/shop/data/goods/1572326827963l0.jpg\" width=\"308\"/></a> <!-- --> <span class=\"global_sticker\" style=\"display: none;\"><span class=\"inner_sticker\"><span class=\"bg_sticker\"></span> <span class=\"txt_sticker\"><span class=\"emph_sticker\">1+2</span> 이벤트</span></span></span> <!-- --> <div class=\"group_btn\"><button class=\"btn btn_cart\" type=\"button\"><span class=\"screen_out\">42821</span></button> <!-- --> <!-- --></div></div> <a class=\"info\"><span class=\"name\">                    [정미경키친] 굴 순두부 맑은탕                </span> <span class=\"cost\"><span class=\"price\">7,900원</span> <!-- --></span> <span class=\"desc\">굴의 풍미를 머금은 맑은탕</span> <span class=\"tag\"><span class=\"ico limit\">Kurly only</span><span class=\"ico limit\">한정수량</span></span></a></div></li><li><div class=\"item\"><div class=\"thumb\"><a class=\"img\" style='background-image: url(\"https://img-cf.kurly.com/shop/data/goods/1610590946445l0.jpg\");'><!-- --> <img alt=\"로제 소스의 매력에 빠진 굴\" height=\"396\" onerror=\"this.src='https://res.kurly.com/mobile/img/1808/img_none_x2.png'\" src=\"https://img-cf.kurly.com/shop/data/goods/1610590946445l0.jpg\" width=\"308\"/></a> <!-- --> <span class=\"global_sticker\" style=\"display: none;\"><span class=\"inner_sticker\"><span class=\"bg_sticker\"></span> <span class=\"txt_sticker\"><span class=\"emph_sticker\">1+2</span> 이벤트</span></span></span> <!-- --> <div class=\"group_btn\"><button class=\"btn btn_cart\" type=\"button\"><span class=\"screen_out\">62330</span></button> <!-- --> <!-- --></div></div> <a class=\"info\"><span class=\"name\">                    [삼삼물산X이태리식탁] 로제 굴 그라탕                </span> <span class=\"cost\"><span class=\"price\">7,900원</span> <!-- --></span> <span class=\"desc\">로제 소스의 매력에 빠진 굴</span> <span class=\"tag\"><span class=\"ico limit\">Kurly only</span></span></a></div></li><li><div class=\"item\"><div class=\"thumb\"><a class=\"img\" style='background-image: url(\"https://img-cf.kurly.com/shop/data/goods/1610591374479l0.jpg\");'><!-- --> <img alt=\"고소한 굴과 크림소스의 만남\" height=\"396\" onerror=\"this.src='https://res.kurly.com/mobile/img/1808/img_none_x2.png'\" src=\"https://img-cf.kurly.com/shop/data/goods/1610591374479l0.jpg\" width=\"308\"/></a> <!-- --> <span class=\"global_sticker\" style=\"display: none;\"><span class=\"inner_sticker\"><span class=\"bg_sticker\"></span> <span class=\"txt_sticker\"><span class=\"emph_sticker\">1+2</span> 이벤트</span></span></span> <!-- --> <div class=\"group_btn\"><button class=\"btn btn_cart\" type=\"button\"><span class=\"screen_out\">62332</span></button> <!-- --> <!-- --></div></div> <a class=\"info\"><span class=\"name\">                    [삼삼물산X이태리식탁] 크림 굴 그라탕                </span> <span class=\"cost\"><span class=\"price\">7,900원</span> <!-- --></span> <span class=\"desc\">고소한 굴과 크림소스의 만남</span> <span class=\"tag\"><span class=\"ico limit\">Kurly only</span></span></a></div></li><li><div class=\"item\"><div class=\"thumb\"><a class=\"img\" style='background-image: url(\"https://img-cf.kurly.com/shop/data/goods/1575018711700l0.jpg\");'><!-- --> <img alt=\"남해의 신선함을 품은 프리미엄 굴\" height=\"396\" onerror=\"this.src='https://res.kurly.com/mobile/img/1808/img_none_x2.png'\" src=\"https://img-cf.kurly.com/shop/data/goods/1575018711700l0.jpg\" width=\"308\"/></a> <span class=\"ico\"><img alt=\"SAVE 아이콘\" src=\"https://img-cf.kurly.com/shop/data/my_icon/icon_save_10.png\"/></span> <span class=\"global_sticker\" style=\"display: none;\"><span class=\"inner_sticker\"><span class=\"bg_sticker\"></span> <span class=\"txt_sticker\"><span class=\"emph_sticker\">1+2</span> 이벤트</span></span></span> <!-- --> <div class=\"group_btn\"><button class=\"btn btn_cart\" type=\"button\"><span class=\"screen_out\">44715</span></button> <!-- --> <!-- --></div></div> <a class=\"info\"><span class=\"name\">                    [삼삼물산] 자연산 남해안 돌굴 150g(소굴, 냉장)                </span> <span class=\"cost\"><span class=\"price\">7,650원</span> <span class=\"original\">8,500원</span></span> <span class=\"desc\">남해의 신선함을 품은 프리미엄 굴</span> <span class=\"tag\"><span class=\"ico limit\">Kurly only</span><span class=\"ico limit\">한정수량</span></span></a></div></li><li><div class=\"item\"><div class=\"thumb\"><a class=\"img\" style='background-image: url(\"https://img-cf.kurly.com/shop/data/goods/1523941104948l0.jpg\");'><!-- --> <img alt=\"참나무로 정성껏 훈연한 훈제굴\" height=\"396\" onerror=\"this.src='https://res.kurly.com/mobile/img/1808/img_none_x2.png'\" src=\"https://img-cf.kurly.com/shop/data/goods/1523941104948l0.jpg\" width=\"308\"/></a> <!-- --> <span class=\"global_sticker\" style=\"display: none;\"><span class=\"inner_sticker\"><span class=\"bg_sticker\"></span> <span class=\"txt_sticker\"><span class=\"emph_sticker\">1+2</span> 이벤트</span></span></span> <!-- --> <div class=\"group_btn\"><button class=\"btn btn_cart\" type=\"button\"><span class=\"screen_out\">25320</span></button> <!-- --> <!-- --></div></div> <a class=\"info\"><span class=\"name\">                    [맑은바다목장] 한잔N굴                </span> <span class=\"cost\"><span class=\"price\">2,640원</span> <!-- --></span> <span class=\"desc\">참나무로 정성껏 훈연한 훈제굴</span> <span class=\"tag\"><!-- --></span></a></div></li><li><div class=\"item\"><div class=\"thumb\"><a class=\"img\" style='background-image: url(\"https://img-cf.kurly.com/shop/data/goods/1576052146548l0.jpg\");'><!-- --> <img alt=\"시원하면서도 감칠맛이 풍부한\" height=\"396\" onerror=\"this.src='https://res.kurly.com/mobile/img/1808/img_none_x2.png'\" src=\"https://img-cf.kurly.com/shop/data/goods/1576052146548l0.jpg\" width=\"308\"/></a> <!-- --> <span class=\"global_sticker\" style=\"display: none;\"><span class=\"inner_sticker\"><span class=\"bg_sticker\"></span> <span class=\"txt_sticker\"><span class=\"emph_sticker\">1+2</span> 이벤트</span></span></span> <!-- --> <div class=\"group_btn\"><button class=\"btn btn_cart\" type=\"button\"><span class=\"screen_out\">44510</span></button> <!-- --> <!-- --></div></div> <a class=\"info\"><span class=\"name\">                    [탐나는밥상] 매생이 굴국                </span> <span class=\"cost\"><span class=\"price\">4,500원</span> <!-- --></span> <span class=\"desc\">시원하면서도 감칠맛이 풍부한</span> <span class=\"tag\"><span class=\"ico limit\">Kurly only</span></span></a></div></li><li><div class=\"item\"><div class=\"thumb\"><a class=\"img\" style='background-image: url(\"https://img-cf.kurly.com/shop/data/goods/1578549559673l0.jpg\");'><!-- --> <img alt=\"싱싱한 생굴을 야채와 버무린 양념굴젓\" height=\"396\" onerror=\"this.src='https://res.kurly.com/mobile/img/1808/img_none_x2.png'\" src=\"https://img-cf.kurly.com/shop/data/goods/1578549559673l0.jpg\" width=\"308\"/></a> <!-- --> <span class=\"global_sticker\" style=\"display: none;\"><span class=\"inner_sticker\"><span class=\"bg_sticker\"></span> <span class=\"txt_sticker\"><span class=\"emph_sticker\">1+2</span> 이벤트</span></span></span> <!-- --> <div class=\"group_btn\"><button class=\"btn btn_cart\" type=\"button\"><span class=\"screen_out\">47670</span></button> <!-- --> <!-- --></div></div> <a class=\"info\"><span class=\"name\">                    [삼삼물산] 양념굴젓 180g(냉장)                </span> <span class=\"cost\"><span class=\"price\">7,900원</span> <!-- --></span> <span class=\"desc\">싱싱한 생굴을 야채와 버무린 양념굴젓</span> <span class=\"tag\"><!-- --></span></a></div></li><li><div class=\"item\"><div class=\"thumb\"><a class=\"img\" style='background-image: url(\"https://img-cf.kurly.com/shop/data/goods/1590650133398l0.jpg\");'><!-- --> <img alt=\"짭조름한 밥도둑\" height=\"396\" onerror=\"this.src='https://res.kurly.com/mobile/img/1808/img_none_x2.png'\" src=\"https://img-cf.kurly.com/shop/data/goods/1590650133398l0.jpg\" width=\"308\"/></a> <!-- --> <span class=\"global_sticker\" style=\"display: none;\"><span class=\"inner_sticker\"><span class=\"bg_sticker\"></span> <span class=\"txt_sticker\"><span class=\"emph_sticker\">1+2</span> 이벤트</span></span></span> <!-- --> <div class=\"group_btn\"><button class=\"btn btn_cart\" type=\"button\"><span class=\"screen_out\">12352</span></button> <!-- --> <!-- --></div></div> <a class=\"info\"><span class=\"name\">                    [굴다리식품] 새우젓 150g                </span> <span class=\"cost\"><span class=\"price\">13,700원</span> <!-- --></span> <span class=\"desc\">짭조름한 밥도둑</span> <span class=\"tag\"><span class=\"ico limit\">Kurly only</span></span></a></div></li><li><div class=\"item\"><div class=\"thumb\"><a class=\"img\" style='background-image: url(\"https://img-cf.kurly.com/shop/data/goods/159065026048l0.jpg\");'><!-- --> <img alt=\"향긋한 바다향을 품은\" height=\"396\" onerror=\"this.src='https://res.kurly.com/mobile/img/1808/img_none_x2.png'\" src=\"https://img-cf.kurly.com/shop/data/goods/159065026048l0.jpg\" width=\"308\"/></a> <!-- --> <span class=\"global_sticker\" style=\"display: none;\"><span class=\"inner_sticker\"><span class=\"bg_sticker\"></span> <span class=\"txt_sticker\"><span class=\"emph_sticker\">1+2</span> 이벤트</span></span></span> <!-- --> <div class=\"group_btn\"><button class=\"btn btn_cart\" type=\"button\"><span class=\"screen_out\">12353</span></button> <!-- --> <!-- --></div></div> <a class=\"info\"><span class=\"name\">                    [굴다리식품] 멍게젓 150g                </span> <span class=\"cost\"><span class=\"price\">9,500원</span> <!-- --></span> <span class=\"desc\">향긋한 바다향을 품은</span> <span class=\"tag\"><!-- --></span></a></div></li><li><div class=\"item\"><div class=\"thumb\"><a class=\"img\" style='background-image: url(\"https://img-cf.kurly.com/shop/data/goods/1590650610310l0.jpg\");'><!-- --> <img alt=\"쫄깃쫄깃 통 꼴뚜기가 들어간\" height=\"396\" onerror=\"this.src='https://res.kurly.com/mobile/img/1808/img_none_x2.png'\" src=\"https://img-cf.kurly.com/shop/data/goods/1590650610310l0.jpg\" width=\"308\"/></a> <!-- --> <span class=\"global_sticker\" style=\"display: none;\"><span class=\"inner_sticker\"><span class=\"bg_sticker\"></span> <span class=\"txt_sticker\"><span class=\"emph_sticker\">1+2</span> 이벤트</span></span></span> <!-- --> <div class=\"group_btn\"><button class=\"btn btn_cart\" type=\"button\"><span class=\"screen_out\">12361</span></button> <!-- --> <!-- --></div></div> <a class=\"info\"><span class=\"name\">                    [굴다리식품] 꼴뚜기젓 150g                </span> <span class=\"cost\"><span class=\"price\">6,800원</span> <!-- --></span> <span class=\"desc\">쫄깃쫄깃 통 꼴뚜기가 들어간</span> <span class=\"tag\"><span class=\"ico limit\">Kurly only</span></span></a></div></li><li><div class=\"item\"><div class=\"thumb\"><a class=\"img\" style='background-image: url(\"https://img-cf.kurly.com/shop/data/goods/1510732911501l0.jpg\");'><!-- --> <img alt=\"명인이 만든 명품 새우젓\" height=\"396\" onerror=\"this.src='https://res.kurly.com/mobile/img/1808/img_none_x2.png'\" src=\"https://img-cf.kurly.com/shop/data/goods/1510732911501l0.jpg\" width=\"308\"/></a> <!-- --> <span class=\"global_sticker\" style=\"display: none;\"><span class=\"inner_sticker\"><span class=\"bg_sticker\"></span> <span class=\"txt_sticker\"><span class=\"emph_sticker\">1+2</span> 이벤트</span></span></span> <!-- --> <div class=\"group_btn\"><button class=\"btn btn_cart\" type=\"button\"><span class=\"screen_out\">10075</span></button> <!-- --> <!-- --></div></div> <a class=\"info\"><span class=\"name\">                    [굴다리식품] 김장용 새우젓 4종(냉장)                </span> <span class=\"cost\"><span class=\"price\">16,500원</span> <!-- --></span> <span class=\"desc\">명인이 만든 명품 새우젓</span> <span class=\"tag\"><!-- --></span></a></div></li><li><div class=\"item\"><div class=\"thumb\"><a class=\"img\" style='background-image: url(\"https://img-cf.kurly.com/shop/data/goods/1590650492527l0.jpg\");'><!-- --> <img alt=\"쫄깃한 밥도둑 젓갈\" height=\"396\" onerror=\"this.src='https://res.kurly.com/mobile/img/1808/img_none_x2.png'\" src=\"https://img-cf.kurly.com/shop/data/goods/1590650492527l0.jpg\" width=\"308\"/></a> <!-- --> <span class=\"global_sticker\" style=\"display: none;\"><span class=\"inner_sticker\"><span class=\"bg_sticker\"></span> <span class=\"txt_sticker\"><span class=\"emph_sticker\">1+2</span> 이벤트</span></span></span> <!-- --> <div class=\"group_btn\"><button class=\"btn btn_cart\" type=\"button\"><span class=\"screen_out\">12360</span></button> <!-- --> <!-- --></div></div> <a class=\"info\"><span class=\"name\">                    [굴다리식품] 창난젓 150g                </span> <span class=\"cost\"><span class=\"price\">6,800원</span> <!-- --></span> <span class=\"desc\">쫄깃한 밥도둑 젓갈</span> <span class=\"tag\"><span class=\"ico limit\">Kurly only</span></span></a></div></li><li><div class=\"item\"><div class=\"thumb\"><a class=\"img\" style='background-image: url(\"https://img-cf.kurly.com/shop/data/goods/1590650723121l0.jpg\");'><!-- --> <img alt=\"입맛 살려주는 쫄깃한 젓갈\" height=\"396\" onerror=\"this.src='https://res.kurly.com/mobile/img/1808/img_none_x2.png'\" src=\"https://img-cf.kurly.com/shop/data/goods/1590650723121l0.jpg\" width=\"308\"/></a> <!-- --> <span class=\"global_sticker\" style=\"display: none;\"><span class=\"inner_sticker\"><span class=\"bg_sticker\"></span> <span class=\"txt_sticker\"><span class=\"emph_sticker\">1+2</span> 이벤트</span></span></span> <!-- --> <div class=\"group_btn\"><button class=\"btn btn_cart\" type=\"button\"><span class=\"screen_out\">12362</span></button> <!-- --> <!-- --></div></div> <a class=\"info\"><span class=\"name\">                    [굴다리식품] 오징어젓 150g                </span> <span class=\"cost\"><span class=\"price\">6,800원</span> <!-- --></span> <span class=\"desc\">입맛 살려주는 쫄깃한 젓갈</span> <span class=\"tag\"><!-- --></span></a></div></li><li><div class=\"item\"><div class=\"thumb\"><a class=\"img\" style='background-image: url(\"https://img-cf.kurly.com/shop/data/goods/1590650836324l0.jpg\");'><!-- --> <img alt=\"오돌오돌한 식감의 젓갈\" height=\"396\" onerror=\"this.src='https://res.kurly.com/mobile/img/1808/img_none_x2.png'\" src=\"https://img-cf.kurly.com/shop/data/goods/1590650836324l0.jpg\" width=\"308\"/></a> <!-- --> <span class=\"global_sticker\" style=\"display: none;\"><span class=\"inner_sticker\"><span class=\"bg_sticker\"></span> <span class=\"txt_sticker\"><span class=\"emph_sticker\">1+2</span> 이벤트</span></span></span> <!-- --> <div class=\"group_btn\"><button class=\"btn btn_cart\" type=\"button\"><span class=\"screen_out\">12363</span></button> <!-- --> <!-- --></div></div> <a class=\"info\"><span class=\"name\">                    [굴다리식품] 낙지젓 150g                </span> <span class=\"cost\"><span class=\"price\">6,800원</span> <!-- --></span> <span class=\"desc\">오돌오돌한 식감의 젓갈</span> <span class=\"tag\"><!-- --></span></a></div></li><li><div class=\"item\"><div class=\"thumb\"><a class=\"img\" style='background-image: url(\"https://img-cf.kurly.com/shop/data/goods/1498011818440l0.jpg\");'><!-- --> <img alt=\"고기의 풍미를 올려주는 갈치쌈장젓\" height=\"396\" onerror=\"this.src='https://res.kurly.com/mobile/img/1808/img_none_x2.png'\" src=\"https://img-cf.kurly.com/shop/data/goods/1498011818440l0.jpg\" width=\"308\"/></a> <!-- --> <span class=\"global_sticker\" style=\"display: none;\"><span class=\"inner_sticker\"><span class=\"bg_sticker\"></span> <span class=\"txt_sticker\"><span class=\"emph_sticker\">1+2</span> 이벤트</span></span></span> <!-- --> <div class=\"group_btn\"><button class=\"btn btn_cart\" type=\"button\"><span class=\"screen_out\">6807</span></button> <!-- --> <!-- --></div></div> <a class=\"info\"><span class=\"name\">                    [굴다리식품] 갈치쌈장젓 150g                </span> <span class=\"cost\"><span class=\"price\">4,800원</span> <!-- --></span> <span class=\"desc\">고기의 풍미를 올려주는 갈치쌈장젓</span> <span class=\"tag\"><!-- --></span></a></div></li><li><div class=\"item\"><div class=\"thumb\"><a class=\"img\" style='background-image: url(\"https://img-cf.kurly.com/shop/data/goods/1576138741213l0.jpg\");'><!-- --> <img alt=\"입맛을 돋우는 새콤달콤 곁들이\" height=\"396\" onerror=\"this.src='https://res.kurly.com/mobile/img/1808/img_none_x2.png'\" src=\"https://img-cf.kurly.com/shop/data/goods/1576138741213l0.jpg\" width=\"308\"/></a> <!-- --> <span class=\"global_sticker\" style=\"display: none;\"><span class=\"inner_sticker\"><span class=\"bg_sticker\"></span> <span class=\"txt_sticker\"><span class=\"emph_sticker\">1+2</span> 이벤트</span></span></span> <!-- --> <div class=\"group_btn\"><button class=\"btn btn_cart\" type=\"button\"><span class=\"screen_out\">8753</span></button> <!-- --> <!-- --></div></div> <a class=\"info\"><span class=\"name\">                    [굴다리식품] 명태회 초무말랭이 무침(냉장)                </span> <span class=\"cost\"><span class=\"price\">4,900원</span> <!-- --></span> <span class=\"desc\">입맛을 돋우는 새콤달콤 곁들이</span> <span class=\"tag\"><!-- --></span></a></div></li><li><div class=\"item\"><div class=\"thumb\"><a class=\"img\" style='background-image: url(\"https://img-cf.kurly.com/shop/data/goods/1600146112779l0.jpg\");'><!-- --> <img alt=\"전통 방식으로 맷돌로 갈아 만든 녹두전\" height=\"396\" onerror=\"this.src='https://res.kurly.com/mobile/img/1808/img_none_x2.png'\" src=\"https://img-cf.kurly.com/shop/data/goods/1600146112779l0.jpg\" width=\"308\"/></a> <!-- --> <span class=\"global_sticker\" style=\"display: none;\"><span class=\"inner_sticker\"><span class=\"bg_sticker\"></span> <span class=\"txt_sticker\"><span class=\"emph_sticker\">1+2</span> 이벤트</span></span></span> <!-- --> <div class=\"group_btn\"><button class=\"btn btn_cart\" type=\"button\"><span class=\"screen_out\">57890</span></button> <!-- --> <!-- --></div></div> <a class=\"info\"><span class=\"name\">                    [전사랑] 전통 녹두전 4종                </span> <span class=\"cost\"><span class=\"price\">5,900원</span> <!-- --></span> <span class=\"desc\">전통 방식으로 맷돌로 갈아 만든 녹두전</span> <span class=\"tag\"><!-- --></span></a></div></li><li><div class=\"item\"><div class=\"thumb\"><a class=\"img\" style='background-image: url(\"https://img-cf.kurly.com/shop/data/goods/157620004753l0.jpg\");'><!-- --> <img alt=\"새콤달콤함이 감도는 별미 반찬\" height=\"396\" onerror=\"this.src='https://res.kurly.com/mobile/img/1808/img_none_x2.png'\" src=\"https://img-cf.kurly.com/shop/data/goods/157620004753l0.jpg\" width=\"308\"/></a> <!-- --> <span class=\"global_sticker\" style=\"display: none;\"><span class=\"inner_sticker\"><span class=\"bg_sticker\"></span> <span class=\"txt_sticker\"><span class=\"emph_sticker\">1+2</span> 이벤트</span></span></span> <!-- --> <div class=\"group_btn\"><button class=\"btn btn_cart\" type=\"button\"><span class=\"screen_out\">8754</span></button> <!-- --> <!-- --></div></div> <a class=\"info\"><span class=\"name\">                    [굴다리식품] 명태회 초무침 2종(냉장)                </span> <span class=\"cost\"><span class=\"price\">4,900원</span> <!-- --></span> <span class=\"desc\">새콤달콤함이 감도는 별미 반찬</span> <span class=\"tag\"><!-- --></span></a></div></li><li><div class=\"item\"><div class=\"thumb\"><a class=\"img\" style='background-image: url(\"https://img-cf.kurly.com/shop/data/goods/1532511972734l0.jpg\");'><!-- --> <img alt=\"꽃게만의 깊은 풍미가 솔솔\" height=\"396\" onerror=\"this.src='https://res.kurly.com/mobile/img/1808/img_none_x2.png'\" src=\"https://img-cf.kurly.com/shop/data/goods/1532511972734l0.jpg\" width=\"308\"/></a> <!-- --> <span class=\"global_sticker\" style=\"display: none;\"><span class=\"inner_sticker\"><span class=\"bg_sticker\"></span> <span class=\"txt_sticker\"><span class=\"emph_sticker\">1+2</span> 이벤트</span></span></span> <!-- --> <div class=\"group_btn\"><button class=\"btn btn_cart\" type=\"button\"><span class=\"screen_out\">27299</span></button> <!-- --> <!-- --></div></div> <a class=\"info\"><span class=\"name\">                    [해통령] 천연 꽃게 분말 60g(냉장)                </span> <span class=\"cost\"><span class=\"price\">6,800원</span> <!-- --></span> <span class=\"desc\">꽃게만의 깊은 풍미가 솔솔</span> <span class=\"tag\"><!-- --></span></a></div></li><li><div class=\"item\"><div class=\"thumb\"><a class=\"img\" style='background-image: url(\"https://img-cf.kurly.com/shop/data/goods/1532512669479l0.jpg\");'><!-- --> <img alt=\"새우의 향과 고소한 감칠맛을 톡톡\" height=\"396\" onerror=\"this.src='https://res.kurly.com/mobile/img/1808/img_none_x2.png'\" src=\"https://img-cf.kurly.com/shop/data/goods/1532512669479l0.jpg\" width=\"308\"/></a> <!-- --> <span class=\"global_sticker\" style=\"display: none;\"><span class=\"inner_sticker\"><span class=\"bg_sticker\"></span> <span class=\"txt_sticker\"><span class=\"emph_sticker\">1+2</span> 이벤트</span></span></span> <!-- --> <div class=\"group_btn\"><button class=\"btn btn_cart\" type=\"button\"><span class=\"screen_out\">27300</span></button> <!-- --> <!-- --></div></div> <a class=\"info\"><span class=\"name\">                    [해통령] 천연 새우 분말 60g(냉장)                </span> <span class=\"cost\"><span class=\"price\">6,800원</span> <!-- --></span> <span class=\"desc\">새우의 향과 고소한 감칠맛을 톡톡</span> <span class=\"tag\"><!-- --></span></a></div></li><li><div class=\"item\"><div class=\"thumb\"><a class=\"img\" style='background-image: url(\"https://img-cf.kurly.com/shop/data/goods/1532504860656l0.jpg\");'><!-- --> <img alt=\"홍합의 깊은 내음이 한가득\" height=\"396\" onerror=\"this.src='https://res.kurly.com/mobile/img/1808/img_none_x2.png'\" src=\"https://img-cf.kurly.com/shop/data/goods/1532504860656l0.jpg\" width=\"308\"/></a> <!-- --> <span class=\"global_sticker\" style=\"display: none;\"><span class=\"inner_sticker\"><span class=\"bg_sticker\"></span> <span class=\"txt_sticker\"><span class=\"emph_sticker\">1+2</span> 이벤트</span></span></span> <!-- --> <div class=\"group_btn\"><button class=\"btn btn_cart\" type=\"button\"><span class=\"screen_out\">27297</span></button> <!-- --> <!-- --></div></div> <a class=\"info\"><span class=\"name\">                    [해통령] 천연 홍합 분말 70g(냉장)                </span> <span class=\"cost\"><span class=\"price\">6,900원</span> <!-- --></span> <span class=\"desc\">홍합의 깊은 내음이 한가득</span> <span class=\"tag\"><!-- --></span></a></div></li><li><div class=\"item\"><div class=\"thumb\"><a class=\"img\" style='background-image: url(\"https://img-cf.kurly.com/shop/data/goods/1542187327295l0.jpg\");'><!-- --> <img alt=\"입맛 따라 골라 먹는 재미가 있는\" height=\"396\" onerror=\"this.src='https://res.kurly.com/mobile/img/1808/img_none_x2.png'\" src=\"https://img-cf.kurly.com/shop/data/goods/1542187327295l0.jpg\" width=\"308\"/></a> <!-- --> <span class=\"global_sticker\" style=\"display: none;\"><span class=\"inner_sticker\"><span class=\"bg_sticker\"></span> <span class=\"txt_sticker\"><span class=\"emph_sticker\">1+2</span> 이벤트</span></span></span> <!-- --> <div class=\"group_btn\"><button class=\"btn btn_cart\" type=\"button\"><span class=\"screen_out\">30760</span></button> <!-- --> <!-- --></div></div> <a class=\"info\"><span class=\"name\">                    [진가네반찬] 배추포기김치 3종                </span> <span class=\"cost\"><span class=\"price\">36,000원</span> <!-- --></span> <span class=\"desc\">입맛 따라 골라 먹는 재미가 있는</span> <span class=\"tag\"><!-- --></span></a></div></li><li><div class=\"item\"><div class=\"thumb\"><a class=\"img\" style='background-image: url(\"https://img-cf.kurly.com/shop/data/goods/1532511797715l0.jpg\");'><!-- --> <img alt=\"어떤 요리와도 어울리는 깊은 감칠맛\" height=\"396\" onerror=\"this.src='https://res.kurly.com/mobile/img/1808/img_none_x2.png'\" src=\"https://img-cf.kurly.com/shop/data/goods/1532511797715l0.jpg\" width=\"308\"/></a> <!-- --> <span class=\"global_sticker\" style=\"display: none;\"><span class=\"inner_sticker\"><span class=\"bg_sticker\"></span> <span class=\"txt_sticker\"><span class=\"emph_sticker\">1+2</span> 이벤트</span></span></span> <!-- --> <div class=\"group_btn\"><button class=\"btn btn_cart\" type=\"button\"><span class=\"screen_out\">27298</span></button> <!-- --> <!-- --></div></div> <a class=\"info\"><span class=\"name\">                    [해통령] 천연 표고버섯 분말 35g(냉장)                </span> <span class=\"cost\"><span class=\"price\">6,200원</span> <!-- --></span> <span class=\"desc\">어떤 요리와도 어울리는 깊은 감칠맛</span> <span class=\"tag\"><!-- --></span></a></div></li><li><div class=\"item\"><div class=\"thumb\"><a class=\"img\" style='background-image: url(\"https://img-cf.kurly.com/shop/data/goods/1532513143566l0.jpg\");'><!-- --> <img alt=\"고소하고 은은한 멸치의 풍미가 가득\" height=\"396\" onerror=\"this.src='https://res.kurly.com/mobile/img/1808/img_none_x2.png'\" src=\"https://img-cf.kurly.com/shop/data/goods/1532513143566l0.jpg\" width=\"308\"/></a> <!-- --> <span class=\"global_sticker\" style=\"display: none;\"><span class=\"inner_sticker\"><span class=\"bg_sticker\"></span> <span class=\"txt_sticker\"><span class=\"emph_sticker\">1+2</span> 이벤트</span></span></span> <!-- --> <div class=\"group_btn\"><button class=\"btn btn_cart\" type=\"button\"><span class=\"screen_out\">27302</span></button> <!-- --> <!-- --></div></div> <a class=\"info\"><span class=\"name\">                    [해통령] 천연 멸치 분말 60g(냉장)                </span> <span class=\"cost\"><span class=\"price\">6,000원</span> <!-- --></span> <span class=\"desc\">고소하고 은은한 멸치의 풍미가 가득</span> <span class=\"tag\"><!-- --></span></a></div></li><li><div class=\"item\"><div class=\"thumb\"><a class=\"img\" style='background-image: url(\"https://img-cf.kurly.com/shop/data/goods/1532512989105l0.jpg\");'><!-- --> <img alt=\"바다의 향과 영양이 가득\" height=\"396\" onerror=\"this.src='https://res.kurly.com/mobile/img/1808/img_none_x2.png'\" src=\"https://img-cf.kurly.com/shop/data/goods/1532512989105l0.jpg\" width=\"308\"/></a> <!-- --> <span class=\"global_sticker\" style=\"display: none;\"><span class=\"inner_sticker\"><span class=\"bg_sticker\"></span> <span class=\"txt_sticker\"><span class=\"emph_sticker\">1+2</span> 이벤트</span></span></span> <!-- --> <div class=\"group_btn\"><button class=\"btn btn_cart\" type=\"button\"><span class=\"screen_out\">27301</span></button> <!-- --> <!-- --></div></div> <a class=\"info\"><span class=\"name\">                    [해통령] 천연 다시마 분말 80g(냉장)                </span> <span class=\"cost\"><span class=\"price\">5,900원</span> <!-- --></span> <span class=\"desc\">바다의 향과 영양이 가득</span> <span class=\"tag\"><!-- --></span></a></div></li><li><div class=\"item\"><div class=\"thumb\"><a class=\"img\" style='background-image: url(\"https://img-cf.kurly.com/shop/data/goods/1536031589295l0.jpg\");'><!-- --> <img alt=\"남다른 맛의 중국 국민 간장\" height=\"396\" onerror=\"this.src='https://res.kurly.com/mobile/img/1808/img_none_x2.png'\" src=\"https://img-cf.kurly.com/shop/data/goods/1536031589295l0.jpg\" width=\"308\"/></a> <!-- --> <span class=\"global_sticker\" style=\"display: none;\"><span class=\"inner_sticker\"><span class=\"bg_sticker\"></span> <span class=\"txt_sticker\"><span class=\"emph_sticker\">1+2</span> 이벤트</span></span></span> <!-- --> <div class=\"group_btn\"><button class=\"btn btn_cart\" type=\"button\"><span class=\"screen_out\">29390</span></button> <!-- --> <!-- --></div></div> <a class=\"info\"><span class=\"name\">                    [해천] 해선간장                </span> <span class=\"cost\"><span class=\"price\">3,000원</span> <!-- --></span> <span class=\"desc\">남다른 맛의 중국 국민 간장</span> <span class=\"tag\"><!-- --></span></a></div></li><li><div class=\"item\"><div class=\"thumb\"><a class=\"img\" style='background-image: url(\"https://img-cf.kurly.com/shop/data/goods/1545184382215l0.jpg\");'><!-- --> <img alt=\"굽기만 하면 완성되는 바다의 맛\" height=\"396\" onerror=\"this.src='https://res.kurly.com/mobile/img/1808/img_none_x2.png'\" src=\"https://img-cf.kurly.com/shop/data/goods/1545184382215l0.jpg\" width=\"308\"/></a> <!-- --> <span class=\"global_sticker\" style=\"display: none;\"><span class=\"inner_sticker\"><span class=\"bg_sticker\"></span> <span class=\"txt_sticker\"><span class=\"emph_sticker\">1+2</span> 이벤트</span></span></span> <!-- --> <div class=\"group_btn\"><button class=\"btn btn_cart\" type=\"button\"><span class=\"screen_out\">32173</span></button> <!-- --> <!-- --></div></div> <a class=\"info\"><span class=\"name\">                    [Sea to Table] 매생이전 500g(냉동)                </span> <span class=\"cost\"><span class=\"price\">8,700원</span> <!-- --></span> <span class=\"desc\">굽기만 하면 완성되는 바다의 맛</span> <span class=\"tag\"><span class=\"ico limit\">Kurly only</span></span></a></div></li><li><div class=\"item\"><div class=\"thumb\"><a class=\"img\" style='background-image: url(\"https://img-cf.kurly.com/shop/data/goods/1464947514506l0.jpg\");'><!-- --> <img alt=\"NEW 헝가리안굴라쉬, 밤크림수프 오픈\" height=\"396\" onerror=\"this.src='https://res.kurly.com/mobile/img/1808/img_none_x2.png'\" src=\"https://img-cf.kurly.com/shop/data/goods/1464947514506l0.jpg\" width=\"308\"/></a> <!-- --> <span class=\"global_sticker\" style=\"display: none;\"><span class=\"inner_sticker\"><span class=\"bg_sticker\"></span> <span class=\"txt_sticker\"><span class=\"emph_sticker\">1+2</span> 이벤트</span></span></span> <!-- --> <div class=\"group_btn\"><button class=\"btn btn_cart\" type=\"button\"><span class=\"screen_out\">2749</span></button> <!-- --> <!-- --></div></div> <a class=\"info\"><span class=\"name\">                    [라쿠치나] 수프 6종                </span> <span class=\"cost\"><span class=\"price\">2,800원</span> <!-- --></span> <span class=\"desc\">NEW 헝가리안굴라쉬, 밤크림수프 오픈</span> <span class=\"tag\"><!-- --></span></a></div></li><li><div class=\"item\"><div class=\"thumb\"><a class=\"img\" style='background-image: url(\"https://img-cf.kurly.com/shop/data/goods/1578376593608l0.jpg\");'><!-- --> <img alt=\"입맛을 자극하는 짙은 초록빛\" height=\"396\" onerror=\"this.src='https://res.kurly.com/mobile/img/1808/img_none_x2.png'\" src=\"https://img-cf.kurly.com/shop/data/goods/1578376593608l0.jpg\" width=\"308\"/></a> <!-- --> <span class=\"global_sticker\" style=\"display: none;\"><span class=\"inner_sticker\"><span class=\"bg_sticker\"></span> <span class=\"txt_sticker\"><span class=\"emph_sticker\">1+2</span> 이벤트</span></span></span> <!-- --> <div class=\"group_btn\"><button class=\"btn btn_cart\" type=\"button\"><span class=\"screen_out\">47667</span></button> <!-- --> <!-- --></div></div> <a class=\"info\"><span class=\"name\">                    [삼삼물산] 녹차로 씻어낸 매생이 120g(냉장)                </span> <span class=\"cost\"><span class=\"price\">2,000원</span> <!-- --></span> <span class=\"desc\">입맛을 자극하는 짙은 초록빛</span> <span class=\"tag\"><!-- --></span></a></div></li><li><div class=\"item\"><div class=\"thumb\"><a class=\"img\" style='background-image: url(\"https://img-cf.kurly.com/shop/data/goods/1591255555976l0.jpg\");'><!-- --> <img alt=\"청정해역에서 거둔 깊은 초록빛\" height=\"396\" onerror=\"this.src='https://res.kurly.com/mobile/img/1808/img_none_x2.png'\" src=\"https://img-cf.kurly.com/shop/data/goods/1591255555976l0.jpg\" width=\"308\"/></a> <!-- --> <span class=\"global_sticker\" style=\"display: none;\"><span class=\"inner_sticker\"><span class=\"bg_sticker\"></span> <span class=\"txt_sticker\"><span class=\"emph_sticker\">1+2</span> 이벤트</span></span></span> <!-- --> <div class=\"group_btn\"><button class=\"btn btn_cart\" type=\"button\"><span class=\"screen_out\">52839</span></button> <!-- --> <!-- --></div></div> <a class=\"info\"><span class=\"name\">                    [우주] 완도 매생이 180g(냉동)                </span> <span class=\"cost\"><span class=\"price\">3,450원</span> <!-- --></span> <span class=\"desc\">청정해역에서 거둔 깊은 초록빛</span> <span class=\"tag\"><span class=\"ico limit\">Kurly only</span></span></a></div></li><li><div class=\"item\"><div class=\"thumb\"><a class=\"img\" style='background-image: url(\"https://img-cf.kurly.com/shop/data/goods/1576039657894l0.jpg\");'><!-- --> <img alt=\"시트러스한 향이 가득한\" height=\"396\" onerror=\"this.src='https://res.kurly.com/mobile/img/1808/img_none_x2.png'\" src=\"https://img-cf.kurly.com/shop/data/goods/1576039657894l0.jpg\" width=\"308\"/></a> <!-- --> <span class=\"global_sticker\" style=\"display: none;\"><span class=\"inner_sticker\"><span class=\"bg_sticker\"></span> <span class=\"txt_sticker\"><span class=\"emph_sticker\">1+2</span> 이벤트</span></span></span> <!-- --> <div class=\"group_btn\"><button class=\"btn btn_cart\" type=\"button\"><span class=\"screen_out\">44176</span></button> <!-- --> <!-- --></div></div> <a class=\"info\"><span class=\"name\">                    [김소영 아티장의 안단테] 노블 토닉 레몬을 넣은 화이트와인식초                </span> <span class=\"cost\"><span class=\"price\">38,000원</span> <!-- --></span> <span class=\"desc\">시트러스한 향이 가득한</span> <span class=\"tag\"><span class=\"ico limit\">Kurly only</span></span></a></div></li><li><div class=\"item\"><div class=\"thumb\"><a class=\"img\" style='background-image: url(\"https://img-cf.kurly.com/shop/data/goods/155987809216l0.jpg\");'><!-- --> <img alt=\"특별한 순간을 위한 티 푸드\" height=\"396\" onerror=\"this.src='https://res.kurly.com/mobile/img/1808/img_none_x2.png'\" src=\"https://img-cf.kurly.com/shop/data/goods/155987809216l0.jpg\" width=\"308\"/></a> <!-- --> <span class=\"global_sticker\" style=\"display: none;\"><span class=\"inner_sticker\"><span class=\"bg_sticker\"></span> <span class=\"txt_sticker\"><span class=\"emph_sticker\">1+2</span> 이벤트</span></span></span> <!-- --> <div class=\"group_btn\"><button class=\"btn btn_cart\" type=\"button\"><span class=\"screen_out\">35087</span></button> <!-- --> <!-- --></div></div> <a class=\"info\"><span class=\"name\">                    [굴리베르] 브로예 뒤 쁘아투 갈레트                </span> <span class=\"cost\"><span class=\"price\">9,500원</span> <!-- --></span> <span class=\"desc\">특별한 순간을 위한 티 푸드</span> <span class=\"tag\"><span class=\"ico limit\">Kurly only</span></span></a></div></li><li><div class=\"item\"><div class=\"thumb\"><a class=\"img\" style='background-image: url(\"https://img-cf.kurly.com/shop/data/goods/1590992097186l0.jpg\");'><!-- --> <img alt=\"바로 꺼내 쓰는 쌉쌀 고소한 풍미(100g/1팩)\" height=\"396\" onerror=\"this.src='https://res.kurly.com/mobile/img/1808/img_none_x2.png'\" src=\"https://img-cf.kurly.com/shop/data/goods/1590992097186l0.jpg\" width=\"308\"/></a> <!-- --> <span class=\"global_sticker\" style=\"display: none;\"><span class=\"inner_sticker\"><span class=\"bg_sticker\"></span> <span class=\"txt_sticker\"><span class=\"emph_sticker\">1+2</span> 이벤트</span></span></span> <a class=\"sold_out\"><span class=\"inner_soldout\">                        Coming Soon                        <!-- --></span></a> <div class=\"group_btn\"><!-- --> <button class=\"btn btn_alarm on\" data-goods-action=\"stocknoti\" data-goodsno=\"52851\" type=\"button\"><span class=\"screen_out\">재고알림 신청</span></button> <!-- --></div></div> <a class=\"info\"><span class=\"name\">                    [샐러딩] 루꼴라(아르굴라) 100g                </span> <span class=\"cost\"><span class=\"price\">3,800원</span> <!-- --></span> <span class=\"desc\">바로 꺼내 쓰는 쌉쌀 고소한 풍미(100g/1팩)</span> <span class=\"tag\"><!-- --></span></a></div></li> <!-- --></ul></div>\n"
     ]
    }
   ],
   "source": [
    "driver = webdriver.Chrome(\"C:\\\\Users\\\\ox797\\\\Desktop\\\\python\\\\chromedriver.exe\")\n",
    "driver.get(\"https://www.kurly.com/shop/goods/goods_search.php?searched=Y&log=1&skey=all&hid_pr_text=%C1%DF%B5%B6%C0%FB%C0%CE+%B8%C5%C4%DE%C7%D4%BA%CE%C5%CD+%C8%FA%B8%B5+%B0%A1%B5%E6+%BD%C9%BE%DF%BD%C4%B4%E7%B8%DE%B4%BA&hid_link_url=https%3A%2F%2Fwww.kurly.com%2Fshop%2Fgoods%2Fgoods_list.php%3Fcategory%3D270&edit=Y&sword=%B1%BC&x=0&y=0\")\n",
    "time.sleep(5) \n",
    "\n",
    "#a = driver.find_element_by_xpath(\"//*[@id='searchOptionForm']/div[2]/div[2]/div[5]/span[2]/a[3]\")\n",
    "#a.click()\n",
    "\n",
    "    \n",
    "html=driver.page_source\n",
    "soup = BeautifulSoup(html,\"html.parser\")\n",
    "\n",
    "\n",
    "#res = soup.find_all(\"div\", {\"class\":\"card_detail\"})\n",
    "res = soup.find_all(\"div\", {\"class\":\"inner_listgoods\"})\n",
    "#res=rs.find_all(\"a\",{\"class\":\"title\"})\n",
    "\n",
    "\n",
    "for n in res:\n",
    "#.get_text()\n",
    "    print(n)"
   ]
  },
  {
   "cell_type": "code",
   "execution_count": 108,
   "metadata": {},
   "outputs": [
    {
     "data": {
      "text/plain": [
       "[<div class=\"item\"><div class=\"thumb\"><a class=\"img\" style='background-image: url(\"https://img-cf.kurly.com/shop/data/goods/1527232283193l0.jpg\");'><!-- --> <img alt=\"사시사철 신선한게 즐기는\" height=\"396\" onerror=\"this.src='https://res.kurly.com/mobile/img/1808/img_none_x2.png'\" src=\"https://img-cf.kurly.com/shop/data/goods/1527232283193l0.jpg\" width=\"308\"/></a> <!-- --> <span class=\"global_sticker\" style=\"display: none;\"><span class=\"inner_sticker\"><span class=\"bg_sticker\"></span> <span class=\"txt_sticker\"><span class=\"emph_sticker\">1+2</span> 이벤트</span></span></span> <!-- --> <div class=\"group_btn\"><button class=\"btn btn_cart\" type=\"button\"><span class=\"screen_out\">25954</span></button> <!-- --> <!-- --></div></div> <a class=\"info\"><span class=\"name\">                    [중앙씨푸드] 통영 굴 350g(냉동)                </span> <span class=\"cost\"><span class=\"price\">5,300원</span> <!-- --></span> <span class=\"desc\">사시사철 신선한게 즐기는</span> <span class=\"tag\"><!-- --></span></a></div>,\n",
       " <div class=\"item\"><div class=\"thumb\"><a class=\"img\" style='background-image: url(\"https://img-cf.kurly.com/shop/data/goods/1576563383355l0.jpg\");'><!-- --> <img alt=\"입 안 가득 퍼지는 담백한 감칠맛\" height=\"396\" onerror=\"this.src='https://res.kurly.com/mobile/img/1808/img_none_x2.png'\" src=\"https://img-cf.kurly.com/shop/data/goods/1576563383355l0.jpg\" width=\"308\"/></a> <!-- --> <span class=\"global_sticker\" style=\"display: none;\"><span class=\"inner_sticker\"><span class=\"bg_sticker\"></span> <span class=\"txt_sticker\"><span class=\"emph_sticker\">1+2</span> 이벤트</span></span></span> <!-- --> <div class=\"group_btn\"><button class=\"btn btn_cart\" type=\"button\"><span class=\"screen_out\">44717</span></button> <!-- --> <!-- --></div></div> <a class=\"info\"><span class=\"name\">                    [삼삼물산] 프리미엄 왕큰 굴 200g(대굴, 냉장)                </span> <span class=\"cost\"><span class=\"price\">6,900원</span> <!-- --></span> <span class=\"desc\">입 안 가득 퍼지는 담백한 감칠맛</span> <span class=\"tag\"><span class=\"ico limit\">Kurly only</span><span class=\"ico limit\">한정수량</span></span></a></div>,\n",
       " <div class=\"item\"><div class=\"thumb\"><a class=\"img\" style='background-image: url(\"https://img-cf.kurly.com/shop/data/goods/1589870232579l0.jpg\");'><!-- --> <img alt=\"밥에 담긴 바다의 향\" height=\"396\" onerror=\"this.src='https://res.kurly.com/mobile/img/1808/img_none_x2.png'\" src=\"https://img-cf.kurly.com/shop/data/goods/1589870232579l0.jpg\" width=\"308\"/></a> <!-- --> <span class=\"global_sticker\" style=\"display: none;\"><span class=\"inner_sticker\"><span class=\"bg_sticker\"></span> <span class=\"txt_sticker\"><span class=\"emph_sticker\">1+2</span> 이벤트</span></span></span> <!-- --> <div class=\"group_btn\"><button class=\"btn btn_cart\" type=\"button\"><span class=\"screen_out\">51964</span></button> <!-- --> <!-- --></div></div> <a class=\"info\"><span class=\"name\">                    [삼삼물산] 굴밥용 생굴 200g(냉장)                </span> <span class=\"cost\"><span class=\"price\">7,900원</span> <!-- --></span> <span class=\"desc\">밥에 담긴 바다의 향</span> <span class=\"tag\"><span class=\"ico limit\">Kurly only</span></span></a></div>,\n",
       " <div class=\"item\"><div class=\"thumb\"><a class=\"img\" style='background-image: url(\"https://img-cf.kurly.com/shop/data/goods/1589781272199l0.jpg\");'><!-- --> <img alt=\"따끈하면서도 시원한 한 그릇\" height=\"396\" onerror=\"this.src='https://res.kurly.com/mobile/img/1808/img_none_x2.png'\" src=\"https://img-cf.kurly.com/shop/data/goods/1589781272199l0.jpg\" width=\"308\"/></a> <!-- --> <span class=\"global_sticker\" style=\"display: none;\"><span class=\"inner_sticker\"><span class=\"bg_sticker\"></span> <span class=\"txt_sticker\"><span class=\"emph_sticker\">1+2</span> 이벤트</span></span></span> <!-- --> <div class=\"group_btn\"><button class=\"btn btn_cart\" type=\"button\"><span class=\"screen_out\">51965</span></button> <!-- --> <!-- --></div></div> <a class=\"info\"><span class=\"name\">                    [삼삼물산] 굴국용 생굴 200g(냉장)                </span> <span class=\"cost\"><span class=\"price\">7,900원</span> <!-- --></span> <span class=\"desc\">따끈하면서도 시원한 한 그릇</span> <span class=\"tag\"><span class=\"ico limit\">Kurly only</span></span></a></div>,\n",
       " <div class=\"item\"><div class=\"thumb\"><a class=\"img\" style='background-image: url(\"https://img-cf.kurly.com/shop/data/goods/1576561898773l0.jpg\");'><!-- --> <img alt=\"통영 앞바다에서 온 우윳빛 선물\" height=\"396\" onerror=\"this.src='https://res.kurly.com/mobile/img/1808/img_none_x2.png'\" src=\"https://img-cf.kurly.com/shop/data/goods/1576561898773l0.jpg\" width=\"308\"/></a> <!-- --> <span class=\"global_sticker\" style=\"display: none;\"><span class=\"inner_sticker\"><span class=\"bg_sticker\"></span> <span class=\"txt_sticker\"><span class=\"emph_sticker\">1+2</span> 이벤트</span></span></span> <!-- --> <div class=\"group_btn\"><button class=\"btn btn_cart\" type=\"button\"><span class=\"screen_out\">44716</span></button> <!-- --> <!-- --></div></div> <a class=\"info\"><span class=\"name\">                    [삼삼물산] 전 국민이 좋아하는 통영굴 200g 내외(중굴, 냉장)                </span> <span class=\"cost\"><span class=\"price\">7,900원</span> <!-- --></span> <span class=\"desc\">통영 앞바다에서 온 우윳빛 선물</span> <span class=\"tag\"><span class=\"ico limit\">Kurly only</span></span></a></div>,\n",
       " <div class=\"item\"><div class=\"thumb\"><a class=\"img\" style='background-image: url(\"https://img-cf.kurly.com/shop/data/goods/1508466502220l0.jpg\");'><!-- --> <img alt=\"맛과 영양이 가득한 명품 굴\" height=\"396\" onerror=\"this.src='https://res.kurly.com/mobile/img/1808/img_none_x2.png'\" src=\"https://img-cf.kurly.com/shop/data/goods/1508466502220l0.jpg\" width=\"308\"/></a> <!-- --> <span class=\"global_sticker\" style=\"display: none;\"><span class=\"inner_sticker\"><span class=\"bg_sticker\"></span> <span class=\"txt_sticker\"><span class=\"emph_sticker\">1+2</span> 이벤트</span></span></span> <!-- --> <div class=\"group_btn\"><button class=\"btn btn_cart\" type=\"button\"><span class=\"screen_out\">9542</span></button> <!-- --> <!-- --></div></div> <a class=\"info\"><span class=\"name\">                    [중앙씨푸드] 생굴 150g(냉장)                </span> <span class=\"cost\"><span class=\"price\">4,900원</span> <!-- --></span> <span class=\"desc\">맛과 영양이 가득한 명품 굴</span> <span class=\"tag\"><!-- --></span></a></div>,\n",
       " <div class=\"item\"><div class=\"thumb\"><a class=\"img\" style='background-image: url(\"https://img-cf.kurly.com/shop/data/goods/1603437732483l0.jpg\");'><!-- --> <img alt=\"통영 바다의 신선함을 머금은\" height=\"396\" onerror=\"this.src='https://res.kurly.com/mobile/img/1808/img_none_x2.png'\" src=\"https://img-cf.kurly.com/shop/data/goods/1603437732483l0.jpg\" width=\"308\"/></a> <!-- --> <span class=\"global_sticker\" style=\"display: none;\"><span class=\"inner_sticker\"><span class=\"bg_sticker\"></span> <span class=\"txt_sticker\"><span class=\"emph_sticker\">1+2</span> 이벤트</span></span></span> <!-- --> <div class=\"group_btn\"><button class=\"btn btn_cart\" type=\"button\"><span class=\"screen_out\">60765</span></button> <!-- --> <!-- --></div></div> <a class=\"info\"><span class=\"name\">                    [삼삼물산] 신선한 국산 생굴 260g(냉장)                </span> <span class=\"cost\"><span class=\"price\">7,500원</span> <!-- --></span> <span class=\"desc\">통영 바다의 신선함을 머금은</span> <span class=\"tag\"><!-- --></span></a></div>,\n",
       " <div class=\"item\"><div class=\"thumb\"><a class=\"img\" style='background-image: url(\"https://img-cf.kurly.com/shop/data/goods/1603955856896l0.jpg\");'><!-- --> <img alt=\"유통 이력을 한눈에 보는 생굴\" height=\"396\" onerror=\"this.src='https://res.kurly.com/mobile/img/1808/img_none_x2.png'\" src=\"https://img-cf.kurly.com/shop/data/goods/1603955856896l0.jpg\" width=\"308\"/></a> <span class=\"ico\"><img alt=\"SAVE 아이콘\" src=\"https://img-cf.kurly.com/shop/data/my_icon/icon_save_25.png\"/></span> <span class=\"global_sticker\" style=\"display: none;\"><span class=\"inner_sticker\"><span class=\"bg_sticker\"></span> <span class=\"txt_sticker\"><span class=\"emph_sticker\">1+2</span> 이벤트</span></span></span> <!-- --> <div class=\"group_btn\"><button class=\"btn btn_cart\" type=\"button\"><span class=\"screen_out\">60764</span></button> <!-- --> <!-- --></div></div> <a class=\"info\"><span class=\"name\">                    [삼삼물산] 이력제 국산 생굴 135g(냉장)                </span> <span class=\"cost\"><span class=\"price\">2,925원</span> <span class=\"original\">3,900원</span></span> <span class=\"desc\">유통 이력을 한눈에 보는 생굴</span> <span class=\"tag\"><!-- --></span></a></div>,\n",
       " <div class=\"item\"><div class=\"thumb\"><a class=\"img\" style='background-image: url(\"https://img-cf.kurly.com/shop/data/goods/1606792299244l0.jpg\");'><!-- --> <img alt=\"넉넉하게 담은 중굴\" height=\"396\" onerror=\"this.src='https://res.kurly.com/mobile/img/1808/img_none_x2.png'\" src=\"https://img-cf.kurly.com/shop/data/goods/1606792299244l0.jpg\" width=\"308\"/></a> <span class=\"ico\"><img alt=\"SAVE 아이콘\" src=\"https://img-cf.kurly.com/shop/data/my_icon/icon_save_30.png\"/></span> <span class=\"global_sticker\" style=\"display: none;\"><span class=\"inner_sticker\"><span class=\"bg_sticker\"></span> <span class=\"txt_sticker\"><span class=\"emph_sticker\">1+2</span> 이벤트</span></span></span> <!-- --> <div class=\"group_btn\"><button class=\"btn btn_cart\" type=\"button\"><span class=\"screen_out\">61679</span></button> <!-- --> <!-- --></div></div> <a class=\"info\"><span class=\"name\">                    [삼삼물산] 온 가족이 즐기는 통영굴 900g내외(냉장)                </span> <span class=\"cost\"><span class=\"price\">23,100원</span> <span class=\"original\">33,000원</span></span> <span class=\"desc\">넉넉하게 담은 중굴</span> <span class=\"tag\"><span class=\"ico limit\">Kurly only</span></span></a></div>,\n",
       " <div class=\"item\"><div class=\"thumb\"><a class=\"img\" style='background-image: url(\"https://img-cf.kurly.com/shop/data/goods/1606803254339l0.jpg\");'><!-- --> <img alt=\"집에서 즐기는 세련된 오이스터 바\" height=\"396\" onerror=\"this.src='https://res.kurly.com/mobile/img/1808/img_none_x2.png'\" src=\"https://img-cf.kurly.com/shop/data/goods/1606803254339l0.jpg\" width=\"308\"/></a> <span class=\"ico\"><img alt=\"SAVE 아이콘\" src=\"https://img-cf.kurly.com/shop/data/my_icon/icon_save_15.png\"/></span> <span class=\"global_sticker\" style=\"display: none;\"><span class=\"inner_sticker\"><span class=\"bg_sticker\"></span> <span class=\"txt_sticker\"><span class=\"emph_sticker\">1+2</span> 이벤트</span></span></span> <!-- --> <div class=\"group_btn\"><button class=\"btn btn_cart\" type=\"button\"><span class=\"screen_out\">61675</span></button> <!-- --> <!-- --></div></div> <a class=\"info\"><span class=\"name\">                    [삼삼물산] 트리플로이드 오이스터(개체굴) 2kg(생물)                </span> <span class=\"cost\"><span class=\"price\">41,650원</span> <span class=\"original\">49,000원</span></span> <span class=\"desc\">집에서 즐기는 세련된 오이스터 바</span> <span class=\"tag\"><span class=\"ico limit\">Kurly only</span></span></a></div>,\n",
       " <div class=\"item\"><div class=\"thumb\"><a class=\"img\" style='background-image: url(\"https://img-cf.kurly.com/shop/data/goods/1532496254711l0.jpg\");'><!-- --> <img alt=\"굴 본연의 담백한 감칠맛이 쏙쏙!\" height=\"396\" onerror=\"this.src='https://res.kurly.com/mobile/img/1808/img_none_x2.png'\" src=\"https://img-cf.kurly.com/shop/data/goods/1532496254711l0.jpg\" width=\"308\"/></a> <!-- --> <span class=\"global_sticker\" style=\"display: none;\"><span class=\"inner_sticker\"><span class=\"bg_sticker\"></span> <span class=\"txt_sticker\"><span class=\"emph_sticker\">1+2</span> 이벤트</span></span></span> <!-- --> <div class=\"group_btn\"><button class=\"btn btn_cart\" type=\"button\"><span class=\"screen_out\">27296</span></button> <!-- --> <!-- --></div></div> <a class=\"info\"><span class=\"name\">                    [해통령] 천연 굴 분말 70g(냉장)                </span> <span class=\"cost\"><span class=\"price\">7,200원</span> <!-- --></span> <span class=\"desc\">굴 본연의 담백한 감칠맛이 쏙쏙!</span> <span class=\"tag\"><!-- --></span></a></div>,\n",
       " <div class=\"item\"><div class=\"thumb\"><a class=\"img\" style='background-image: url(\"https://img-cf.kurly.com/shop/data/goods/1572326827963l0.jpg\");'><!-- --> <img alt=\"굴의 풍미를 머금은 맑은탕\" height=\"396\" onerror=\"this.src='https://res.kurly.com/mobile/img/1808/img_none_x2.png'\" src=\"https://img-cf.kurly.com/shop/data/goods/1572326827963l0.jpg\" width=\"308\"/></a> <!-- --> <span class=\"global_sticker\" style=\"display: none;\"><span class=\"inner_sticker\"><span class=\"bg_sticker\"></span> <span class=\"txt_sticker\"><span class=\"emph_sticker\">1+2</span> 이벤트</span></span></span> <!-- --> <div class=\"group_btn\"><button class=\"btn btn_cart\" type=\"button\"><span class=\"screen_out\">42821</span></button> <!-- --> <!-- --></div></div> <a class=\"info\"><span class=\"name\">                    [정미경키친] 굴 순두부 맑은탕                </span> <span class=\"cost\"><span class=\"price\">7,900원</span> <!-- --></span> <span class=\"desc\">굴의 풍미를 머금은 맑은탕</span> <span class=\"tag\"><span class=\"ico limit\">Kurly only</span><span class=\"ico limit\">한정수량</span></span></a></div>,\n",
       " <div class=\"item\"><div class=\"thumb\"><a class=\"img\" style='background-image: url(\"https://img-cf.kurly.com/shop/data/goods/1610590946445l0.jpg\");'><!-- --> <img alt=\"로제 소스의 매력에 빠진 굴\" height=\"396\" onerror=\"this.src='https://res.kurly.com/mobile/img/1808/img_none_x2.png'\" src=\"https://img-cf.kurly.com/shop/data/goods/1610590946445l0.jpg\" width=\"308\"/></a> <!-- --> <span class=\"global_sticker\" style=\"display: none;\"><span class=\"inner_sticker\"><span class=\"bg_sticker\"></span> <span class=\"txt_sticker\"><span class=\"emph_sticker\">1+2</span> 이벤트</span></span></span> <!-- --> <div class=\"group_btn\"><button class=\"btn btn_cart\" type=\"button\"><span class=\"screen_out\">62330</span></button> <!-- --> <!-- --></div></div> <a class=\"info\"><span class=\"name\">                    [삼삼물산X이태리식탁] 로제 굴 그라탕                </span> <span class=\"cost\"><span class=\"price\">7,900원</span> <!-- --></span> <span class=\"desc\">로제 소스의 매력에 빠진 굴</span> <span class=\"tag\"><span class=\"ico limit\">Kurly only</span></span></a></div>,\n",
       " <div class=\"item\"><div class=\"thumb\"><a class=\"img\" style='background-image: url(\"https://img-cf.kurly.com/shop/data/goods/1610591374479l0.jpg\");'><!-- --> <img alt=\"고소한 굴과 크림소스의 만남\" height=\"396\" onerror=\"this.src='https://res.kurly.com/mobile/img/1808/img_none_x2.png'\" src=\"https://img-cf.kurly.com/shop/data/goods/1610591374479l0.jpg\" width=\"308\"/></a> <!-- --> <span class=\"global_sticker\" style=\"display: none;\"><span class=\"inner_sticker\"><span class=\"bg_sticker\"></span> <span class=\"txt_sticker\"><span class=\"emph_sticker\">1+2</span> 이벤트</span></span></span> <!-- --> <div class=\"group_btn\"><button class=\"btn btn_cart\" type=\"button\"><span class=\"screen_out\">62332</span></button> <!-- --> <!-- --></div></div> <a class=\"info\"><span class=\"name\">                    [삼삼물산X이태리식탁] 크림 굴 그라탕                </span> <span class=\"cost\"><span class=\"price\">7,900원</span> <!-- --></span> <span class=\"desc\">고소한 굴과 크림소스의 만남</span> <span class=\"tag\"><span class=\"ico limit\">Kurly only</span></span></a></div>,\n",
       " <div class=\"item\"><div class=\"thumb\"><a class=\"img\" style='background-image: url(\"https://img-cf.kurly.com/shop/data/goods/1575018711700l0.jpg\");'><!-- --> <img alt=\"남해의 신선함을 품은 프리미엄 굴\" height=\"396\" onerror=\"this.src='https://res.kurly.com/mobile/img/1808/img_none_x2.png'\" src=\"https://img-cf.kurly.com/shop/data/goods/1575018711700l0.jpg\" width=\"308\"/></a> <span class=\"ico\"><img alt=\"SAVE 아이콘\" src=\"https://img-cf.kurly.com/shop/data/my_icon/icon_save_10.png\"/></span> <span class=\"global_sticker\" style=\"display: none;\"><span class=\"inner_sticker\"><span class=\"bg_sticker\"></span> <span class=\"txt_sticker\"><span class=\"emph_sticker\">1+2</span> 이벤트</span></span></span> <!-- --> <div class=\"group_btn\"><button class=\"btn btn_cart\" type=\"button\"><span class=\"screen_out\">44715</span></button> <!-- --> <!-- --></div></div> <a class=\"info\"><span class=\"name\">                    [삼삼물산] 자연산 남해안 돌굴 150g(소굴, 냉장)                </span> <span class=\"cost\"><span class=\"price\">7,650원</span> <span class=\"original\">8,500원</span></span> <span class=\"desc\">남해의 신선함을 품은 프리미엄 굴</span> <span class=\"tag\"><span class=\"ico limit\">Kurly only</span><span class=\"ico limit\">한정수량</span></span></a></div>,\n",
       " <div class=\"item\"><div class=\"thumb\"><a class=\"img\" style='background-image: url(\"https://img-cf.kurly.com/shop/data/goods/1523941104948l0.jpg\");'><!-- --> <img alt=\"참나무로 정성껏 훈연한 훈제굴\" height=\"396\" onerror=\"this.src='https://res.kurly.com/mobile/img/1808/img_none_x2.png'\" src=\"https://img-cf.kurly.com/shop/data/goods/1523941104948l0.jpg\" width=\"308\"/></a> <!-- --> <span class=\"global_sticker\" style=\"display: none;\"><span class=\"inner_sticker\"><span class=\"bg_sticker\"></span> <span class=\"txt_sticker\"><span class=\"emph_sticker\">1+2</span> 이벤트</span></span></span> <!-- --> <div class=\"group_btn\"><button class=\"btn btn_cart\" type=\"button\"><span class=\"screen_out\">25320</span></button> <!-- --> <!-- --></div></div> <a class=\"info\"><span class=\"name\">                    [맑은바다목장] 한잔N굴                </span> <span class=\"cost\"><span class=\"price\">2,640원</span> <!-- --></span> <span class=\"desc\">참나무로 정성껏 훈연한 훈제굴</span> <span class=\"tag\"><!-- --></span></a></div>,\n",
       " <div class=\"item\"><div class=\"thumb\"><a class=\"img\" style='background-image: url(\"https://img-cf.kurly.com/shop/data/goods/1576052146548l0.jpg\");'><!-- --> <img alt=\"시원하면서도 감칠맛이 풍부한\" height=\"396\" onerror=\"this.src='https://res.kurly.com/mobile/img/1808/img_none_x2.png'\" src=\"https://img-cf.kurly.com/shop/data/goods/1576052146548l0.jpg\" width=\"308\"/></a> <!-- --> <span class=\"global_sticker\" style=\"display: none;\"><span class=\"inner_sticker\"><span class=\"bg_sticker\"></span> <span class=\"txt_sticker\"><span class=\"emph_sticker\">1+2</span> 이벤트</span></span></span> <!-- --> <div class=\"group_btn\"><button class=\"btn btn_cart\" type=\"button\"><span class=\"screen_out\">44510</span></button> <!-- --> <!-- --></div></div> <a class=\"info\"><span class=\"name\">                    [탐나는밥상] 매생이 굴국                </span> <span class=\"cost\"><span class=\"price\">4,500원</span> <!-- --></span> <span class=\"desc\">시원하면서도 감칠맛이 풍부한</span> <span class=\"tag\"><span class=\"ico limit\">Kurly only</span></span></a></div>,\n",
       " <div class=\"item\"><div class=\"thumb\"><a class=\"img\" style='background-image: url(\"https://img-cf.kurly.com/shop/data/goods/1578549559673l0.jpg\");'><!-- --> <img alt=\"싱싱한 생굴을 야채와 버무린 양념굴젓\" height=\"396\" onerror=\"this.src='https://res.kurly.com/mobile/img/1808/img_none_x2.png'\" src=\"https://img-cf.kurly.com/shop/data/goods/1578549559673l0.jpg\" width=\"308\"/></a> <!-- --> <span class=\"global_sticker\" style=\"display: none;\"><span class=\"inner_sticker\"><span class=\"bg_sticker\"></span> <span class=\"txt_sticker\"><span class=\"emph_sticker\">1+2</span> 이벤트</span></span></span> <!-- --> <div class=\"group_btn\"><button class=\"btn btn_cart\" type=\"button\"><span class=\"screen_out\">47670</span></button> <!-- --> <!-- --></div></div> <a class=\"info\"><span class=\"name\">                    [삼삼물산] 양념굴젓 180g(냉장)                </span> <span class=\"cost\"><span class=\"price\">7,900원</span> <!-- --></span> <span class=\"desc\">싱싱한 생굴을 야채와 버무린 양념굴젓</span> <span class=\"tag\"><!-- --></span></a></div>,\n",
       " <div class=\"item\"><div class=\"thumb\"><a class=\"img\" style='background-image: url(\"https://img-cf.kurly.com/shop/data/goods/1590650133398l0.jpg\");'><!-- --> <img alt=\"짭조름한 밥도둑\" height=\"396\" onerror=\"this.src='https://res.kurly.com/mobile/img/1808/img_none_x2.png'\" src=\"https://img-cf.kurly.com/shop/data/goods/1590650133398l0.jpg\" width=\"308\"/></a> <!-- --> <span class=\"global_sticker\" style=\"display: none;\"><span class=\"inner_sticker\"><span class=\"bg_sticker\"></span> <span class=\"txt_sticker\"><span class=\"emph_sticker\">1+2</span> 이벤트</span></span></span> <!-- --> <div class=\"group_btn\"><button class=\"btn btn_cart\" type=\"button\"><span class=\"screen_out\">12352</span></button> <!-- --> <!-- --></div></div> <a class=\"info\"><span class=\"name\">                    [굴다리식품] 새우젓 150g                </span> <span class=\"cost\"><span class=\"price\">13,700원</span> <!-- --></span> <span class=\"desc\">짭조름한 밥도둑</span> <span class=\"tag\"><span class=\"ico limit\">Kurly only</span></span></a></div>,\n",
       " <div class=\"item\"><div class=\"thumb\"><a class=\"img\" style='background-image: url(\"https://img-cf.kurly.com/shop/data/goods/159065026048l0.jpg\");'><!-- --> <img alt=\"향긋한 바다향을 품은\" height=\"396\" onerror=\"this.src='https://res.kurly.com/mobile/img/1808/img_none_x2.png'\" src=\"https://img-cf.kurly.com/shop/data/goods/159065026048l0.jpg\" width=\"308\"/></a> <!-- --> <span class=\"global_sticker\" style=\"display: none;\"><span class=\"inner_sticker\"><span class=\"bg_sticker\"></span> <span class=\"txt_sticker\"><span class=\"emph_sticker\">1+2</span> 이벤트</span></span></span> <!-- --> <div class=\"group_btn\"><button class=\"btn btn_cart\" type=\"button\"><span class=\"screen_out\">12353</span></button> <!-- --> <!-- --></div></div> <a class=\"info\"><span class=\"name\">                    [굴다리식품] 멍게젓 150g                </span> <span class=\"cost\"><span class=\"price\">9,500원</span> <!-- --></span> <span class=\"desc\">향긋한 바다향을 품은</span> <span class=\"tag\"><!-- --></span></a></div>,\n",
       " <div class=\"item\"><div class=\"thumb\"><a class=\"img\" style='background-image: url(\"https://img-cf.kurly.com/shop/data/goods/1590650610310l0.jpg\");'><!-- --> <img alt=\"쫄깃쫄깃 통 꼴뚜기가 들어간\" height=\"396\" onerror=\"this.src='https://res.kurly.com/mobile/img/1808/img_none_x2.png'\" src=\"https://img-cf.kurly.com/shop/data/goods/1590650610310l0.jpg\" width=\"308\"/></a> <!-- --> <span class=\"global_sticker\" style=\"display: none;\"><span class=\"inner_sticker\"><span class=\"bg_sticker\"></span> <span class=\"txt_sticker\"><span class=\"emph_sticker\">1+2</span> 이벤트</span></span></span> <!-- --> <div class=\"group_btn\"><button class=\"btn btn_cart\" type=\"button\"><span class=\"screen_out\">12361</span></button> <!-- --> <!-- --></div></div> <a class=\"info\"><span class=\"name\">                    [굴다리식품] 꼴뚜기젓 150g                </span> <span class=\"cost\"><span class=\"price\">6,800원</span> <!-- --></span> <span class=\"desc\">쫄깃쫄깃 통 꼴뚜기가 들어간</span> <span class=\"tag\"><span class=\"ico limit\">Kurly only</span></span></a></div>,\n",
       " <div class=\"item\"><div class=\"thumb\"><a class=\"img\" style='background-image: url(\"https://img-cf.kurly.com/shop/data/goods/1510732911501l0.jpg\");'><!-- --> <img alt=\"명인이 만든 명품 새우젓\" height=\"396\" onerror=\"this.src='https://res.kurly.com/mobile/img/1808/img_none_x2.png'\" src=\"https://img-cf.kurly.com/shop/data/goods/1510732911501l0.jpg\" width=\"308\"/></a> <!-- --> <span class=\"global_sticker\" style=\"display: none;\"><span class=\"inner_sticker\"><span class=\"bg_sticker\"></span> <span class=\"txt_sticker\"><span class=\"emph_sticker\">1+2</span> 이벤트</span></span></span> <!-- --> <div class=\"group_btn\"><button class=\"btn btn_cart\" type=\"button\"><span class=\"screen_out\">10075</span></button> <!-- --> <!-- --></div></div> <a class=\"info\"><span class=\"name\">                    [굴다리식품] 김장용 새우젓 4종(냉장)                </span> <span class=\"cost\"><span class=\"price\">16,500원</span> <!-- --></span> <span class=\"desc\">명인이 만든 명품 새우젓</span> <span class=\"tag\"><!-- --></span></a></div>,\n",
       " <div class=\"item\"><div class=\"thumb\"><a class=\"img\" style='background-image: url(\"https://img-cf.kurly.com/shop/data/goods/1590650492527l0.jpg\");'><!-- --> <img alt=\"쫄깃한 밥도둑 젓갈\" height=\"396\" onerror=\"this.src='https://res.kurly.com/mobile/img/1808/img_none_x2.png'\" src=\"https://img-cf.kurly.com/shop/data/goods/1590650492527l0.jpg\" width=\"308\"/></a> <!-- --> <span class=\"global_sticker\" style=\"display: none;\"><span class=\"inner_sticker\"><span class=\"bg_sticker\"></span> <span class=\"txt_sticker\"><span class=\"emph_sticker\">1+2</span> 이벤트</span></span></span> <!-- --> <div class=\"group_btn\"><button class=\"btn btn_cart\" type=\"button\"><span class=\"screen_out\">12360</span></button> <!-- --> <!-- --></div></div> <a class=\"info\"><span class=\"name\">                    [굴다리식품] 창난젓 150g                </span> <span class=\"cost\"><span class=\"price\">6,800원</span> <!-- --></span> <span class=\"desc\">쫄깃한 밥도둑 젓갈</span> <span class=\"tag\"><span class=\"ico limit\">Kurly only</span></span></a></div>,\n",
       " <div class=\"item\"><div class=\"thumb\"><a class=\"img\" style='background-image: url(\"https://img-cf.kurly.com/shop/data/goods/1590650723121l0.jpg\");'><!-- --> <img alt=\"입맛 살려주는 쫄깃한 젓갈\" height=\"396\" onerror=\"this.src='https://res.kurly.com/mobile/img/1808/img_none_x2.png'\" src=\"https://img-cf.kurly.com/shop/data/goods/1590650723121l0.jpg\" width=\"308\"/></a> <!-- --> <span class=\"global_sticker\" style=\"display: none;\"><span class=\"inner_sticker\"><span class=\"bg_sticker\"></span> <span class=\"txt_sticker\"><span class=\"emph_sticker\">1+2</span> 이벤트</span></span></span> <!-- --> <div class=\"group_btn\"><button class=\"btn btn_cart\" type=\"button\"><span class=\"screen_out\">12362</span></button> <!-- --> <!-- --></div></div> <a class=\"info\"><span class=\"name\">                    [굴다리식품] 오징어젓 150g                </span> <span class=\"cost\"><span class=\"price\">6,800원</span> <!-- --></span> <span class=\"desc\">입맛 살려주는 쫄깃한 젓갈</span> <span class=\"tag\"><!-- --></span></a></div>,\n",
       " <div class=\"item\"><div class=\"thumb\"><a class=\"img\" style='background-image: url(\"https://img-cf.kurly.com/shop/data/goods/1590650836324l0.jpg\");'><!-- --> <img alt=\"오돌오돌한 식감의 젓갈\" height=\"396\" onerror=\"this.src='https://res.kurly.com/mobile/img/1808/img_none_x2.png'\" src=\"https://img-cf.kurly.com/shop/data/goods/1590650836324l0.jpg\" width=\"308\"/></a> <!-- --> <span class=\"global_sticker\" style=\"display: none;\"><span class=\"inner_sticker\"><span class=\"bg_sticker\"></span> <span class=\"txt_sticker\"><span class=\"emph_sticker\">1+2</span> 이벤트</span></span></span> <!-- --> <div class=\"group_btn\"><button class=\"btn btn_cart\" type=\"button\"><span class=\"screen_out\">12363</span></button> <!-- --> <!-- --></div></div> <a class=\"info\"><span class=\"name\">                    [굴다리식품] 낙지젓 150g                </span> <span class=\"cost\"><span class=\"price\">6,800원</span> <!-- --></span> <span class=\"desc\">오돌오돌한 식감의 젓갈</span> <span class=\"tag\"><!-- --></span></a></div>,\n",
       " <div class=\"item\"><div class=\"thumb\"><a class=\"img\" style='background-image: url(\"https://img-cf.kurly.com/shop/data/goods/1498011818440l0.jpg\");'><!-- --> <img alt=\"고기의 풍미를 올려주는 갈치쌈장젓\" height=\"396\" onerror=\"this.src='https://res.kurly.com/mobile/img/1808/img_none_x2.png'\" src=\"https://img-cf.kurly.com/shop/data/goods/1498011818440l0.jpg\" width=\"308\"/></a> <!-- --> <span class=\"global_sticker\" style=\"display: none;\"><span class=\"inner_sticker\"><span class=\"bg_sticker\"></span> <span class=\"txt_sticker\"><span class=\"emph_sticker\">1+2</span> 이벤트</span></span></span> <!-- --> <div class=\"group_btn\"><button class=\"btn btn_cart\" type=\"button\"><span class=\"screen_out\">6807</span></button> <!-- --> <!-- --></div></div> <a class=\"info\"><span class=\"name\">                    [굴다리식품] 갈치쌈장젓 150g                </span> <span class=\"cost\"><span class=\"price\">4,800원</span> <!-- --></span> <span class=\"desc\">고기의 풍미를 올려주는 갈치쌈장젓</span> <span class=\"tag\"><!-- --></span></a></div>,\n",
       " <div class=\"item\"><div class=\"thumb\"><a class=\"img\" style='background-image: url(\"https://img-cf.kurly.com/shop/data/goods/1576138741213l0.jpg\");'><!-- --> <img alt=\"입맛을 돋우는 새콤달콤 곁들이\" height=\"396\" onerror=\"this.src='https://res.kurly.com/mobile/img/1808/img_none_x2.png'\" src=\"https://img-cf.kurly.com/shop/data/goods/1576138741213l0.jpg\" width=\"308\"/></a> <!-- --> <span class=\"global_sticker\" style=\"display: none;\"><span class=\"inner_sticker\"><span class=\"bg_sticker\"></span> <span class=\"txt_sticker\"><span class=\"emph_sticker\">1+2</span> 이벤트</span></span></span> <!-- --> <div class=\"group_btn\"><button class=\"btn btn_cart\" type=\"button\"><span class=\"screen_out\">8753</span></button> <!-- --> <!-- --></div></div> <a class=\"info\"><span class=\"name\">                    [굴다리식품] 명태회 초무말랭이 무침(냉장)                </span> <span class=\"cost\"><span class=\"price\">4,900원</span> <!-- --></span> <span class=\"desc\">입맛을 돋우는 새콤달콤 곁들이</span> <span class=\"tag\"><!-- --></span></a></div>,\n",
       " <div class=\"item\"><div class=\"thumb\"><a class=\"img\" style='background-image: url(\"https://img-cf.kurly.com/shop/data/goods/1600146112779l0.jpg\");'><!-- --> <img alt=\"전통 방식으로 맷돌로 갈아 만든 녹두전\" height=\"396\" onerror=\"this.src='https://res.kurly.com/mobile/img/1808/img_none_x2.png'\" src=\"https://img-cf.kurly.com/shop/data/goods/1600146112779l0.jpg\" width=\"308\"/></a> <!-- --> <span class=\"global_sticker\" style=\"display: none;\"><span class=\"inner_sticker\"><span class=\"bg_sticker\"></span> <span class=\"txt_sticker\"><span class=\"emph_sticker\">1+2</span> 이벤트</span></span></span> <!-- --> <div class=\"group_btn\"><button class=\"btn btn_cart\" type=\"button\"><span class=\"screen_out\">57890</span></button> <!-- --> <!-- --></div></div> <a class=\"info\"><span class=\"name\">                    [전사랑] 전통 녹두전 4종                </span> <span class=\"cost\"><span class=\"price\">5,900원</span> <!-- --></span> <span class=\"desc\">전통 방식으로 맷돌로 갈아 만든 녹두전</span> <span class=\"tag\"><!-- --></span></a></div>,\n",
       " <div class=\"item\"><div class=\"thumb\"><a class=\"img\" style='background-image: url(\"https://img-cf.kurly.com/shop/data/goods/157620004753l0.jpg\");'><!-- --> <img alt=\"새콤달콤함이 감도는 별미 반찬\" height=\"396\" onerror=\"this.src='https://res.kurly.com/mobile/img/1808/img_none_x2.png'\" src=\"https://img-cf.kurly.com/shop/data/goods/157620004753l0.jpg\" width=\"308\"/></a> <!-- --> <span class=\"global_sticker\" style=\"display: none;\"><span class=\"inner_sticker\"><span class=\"bg_sticker\"></span> <span class=\"txt_sticker\"><span class=\"emph_sticker\">1+2</span> 이벤트</span></span></span> <!-- --> <div class=\"group_btn\"><button class=\"btn btn_cart\" type=\"button\"><span class=\"screen_out\">8754</span></button> <!-- --> <!-- --></div></div> <a class=\"info\"><span class=\"name\">                    [굴다리식품] 명태회 초무침 2종(냉장)                </span> <span class=\"cost\"><span class=\"price\">4,900원</span> <!-- --></span> <span class=\"desc\">새콤달콤함이 감도는 별미 반찬</span> <span class=\"tag\"><!-- --></span></a></div>,\n",
       " <div class=\"item\"><div class=\"thumb\"><a class=\"img\" style='background-image: url(\"https://img-cf.kurly.com/shop/data/goods/1532511972734l0.jpg\");'><!-- --> <img alt=\"꽃게만의 깊은 풍미가 솔솔\" height=\"396\" onerror=\"this.src='https://res.kurly.com/mobile/img/1808/img_none_x2.png'\" src=\"https://img-cf.kurly.com/shop/data/goods/1532511972734l0.jpg\" width=\"308\"/></a> <!-- --> <span class=\"global_sticker\" style=\"display: none;\"><span class=\"inner_sticker\"><span class=\"bg_sticker\"></span> <span class=\"txt_sticker\"><span class=\"emph_sticker\">1+2</span> 이벤트</span></span></span> <!-- --> <div class=\"group_btn\"><button class=\"btn btn_cart\" type=\"button\"><span class=\"screen_out\">27299</span></button> <!-- --> <!-- --></div></div> <a class=\"info\"><span class=\"name\">                    [해통령] 천연 꽃게 분말 60g(냉장)                </span> <span class=\"cost\"><span class=\"price\">6,800원</span> <!-- --></span> <span class=\"desc\">꽃게만의 깊은 풍미가 솔솔</span> <span class=\"tag\"><!-- --></span></a></div>,\n",
       " <div class=\"item\"><div class=\"thumb\"><a class=\"img\" style='background-image: url(\"https://img-cf.kurly.com/shop/data/goods/1532512669479l0.jpg\");'><!-- --> <img alt=\"새우의 향과 고소한 감칠맛을 톡톡\" height=\"396\" onerror=\"this.src='https://res.kurly.com/mobile/img/1808/img_none_x2.png'\" src=\"https://img-cf.kurly.com/shop/data/goods/1532512669479l0.jpg\" width=\"308\"/></a> <!-- --> <span class=\"global_sticker\" style=\"display: none;\"><span class=\"inner_sticker\"><span class=\"bg_sticker\"></span> <span class=\"txt_sticker\"><span class=\"emph_sticker\">1+2</span> 이벤트</span></span></span> <!-- --> <div class=\"group_btn\"><button class=\"btn btn_cart\" type=\"button\"><span class=\"screen_out\">27300</span></button> <!-- --> <!-- --></div></div> <a class=\"info\"><span class=\"name\">                    [해통령] 천연 새우 분말 60g(냉장)                </span> <span class=\"cost\"><span class=\"price\">6,800원</span> <!-- --></span> <span class=\"desc\">새우의 향과 고소한 감칠맛을 톡톡</span> <span class=\"tag\"><!-- --></span></a></div>,\n",
       " <div class=\"item\"><div class=\"thumb\"><a class=\"img\" style='background-image: url(\"https://img-cf.kurly.com/shop/data/goods/1532504860656l0.jpg\");'><!-- --> <img alt=\"홍합의 깊은 내음이 한가득\" height=\"396\" onerror=\"this.src='https://res.kurly.com/mobile/img/1808/img_none_x2.png'\" src=\"https://img-cf.kurly.com/shop/data/goods/1532504860656l0.jpg\" width=\"308\"/></a> <!-- --> <span class=\"global_sticker\" style=\"display: none;\"><span class=\"inner_sticker\"><span class=\"bg_sticker\"></span> <span class=\"txt_sticker\"><span class=\"emph_sticker\">1+2</span> 이벤트</span></span></span> <!-- --> <div class=\"group_btn\"><button class=\"btn btn_cart\" type=\"button\"><span class=\"screen_out\">27297</span></button> <!-- --> <!-- --></div></div> <a class=\"info\"><span class=\"name\">                    [해통령] 천연 홍합 분말 70g(냉장)                </span> <span class=\"cost\"><span class=\"price\">6,900원</span> <!-- --></span> <span class=\"desc\">홍합의 깊은 내음이 한가득</span> <span class=\"tag\"><!-- --></span></a></div>,\n",
       " <div class=\"item\"><div class=\"thumb\"><a class=\"img\" style='background-image: url(\"https://img-cf.kurly.com/shop/data/goods/1542187327295l0.jpg\");'><!-- --> <img alt=\"입맛 따라 골라 먹는 재미가 있는\" height=\"396\" onerror=\"this.src='https://res.kurly.com/mobile/img/1808/img_none_x2.png'\" src=\"https://img-cf.kurly.com/shop/data/goods/1542187327295l0.jpg\" width=\"308\"/></a> <!-- --> <span class=\"global_sticker\" style=\"display: none;\"><span class=\"inner_sticker\"><span class=\"bg_sticker\"></span> <span class=\"txt_sticker\"><span class=\"emph_sticker\">1+2</span> 이벤트</span></span></span> <!-- --> <div class=\"group_btn\"><button class=\"btn btn_cart\" type=\"button\"><span class=\"screen_out\">30760</span></button> <!-- --> <!-- --></div></div> <a class=\"info\"><span class=\"name\">                    [진가네반찬] 배추포기김치 3종                </span> <span class=\"cost\"><span class=\"price\">36,000원</span> <!-- --></span> <span class=\"desc\">입맛 따라 골라 먹는 재미가 있는</span> <span class=\"tag\"><!-- --></span></a></div>,\n",
       " <div class=\"item\"><div class=\"thumb\"><a class=\"img\" style='background-image: url(\"https://img-cf.kurly.com/shop/data/goods/1532511797715l0.jpg\");'><!-- --> <img alt=\"어떤 요리와도 어울리는 깊은 감칠맛\" height=\"396\" onerror=\"this.src='https://res.kurly.com/mobile/img/1808/img_none_x2.png'\" src=\"https://img-cf.kurly.com/shop/data/goods/1532511797715l0.jpg\" width=\"308\"/></a> <!-- --> <span class=\"global_sticker\" style=\"display: none;\"><span class=\"inner_sticker\"><span class=\"bg_sticker\"></span> <span class=\"txt_sticker\"><span class=\"emph_sticker\">1+2</span> 이벤트</span></span></span> <!-- --> <div class=\"group_btn\"><button class=\"btn btn_cart\" type=\"button\"><span class=\"screen_out\">27298</span></button> <!-- --> <!-- --></div></div> <a class=\"info\"><span class=\"name\">                    [해통령] 천연 표고버섯 분말 35g(냉장)                </span> <span class=\"cost\"><span class=\"price\">6,200원</span> <!-- --></span> <span class=\"desc\">어떤 요리와도 어울리는 깊은 감칠맛</span> <span class=\"tag\"><!-- --></span></a></div>,\n",
       " <div class=\"item\"><div class=\"thumb\"><a class=\"img\" style='background-image: url(\"https://img-cf.kurly.com/shop/data/goods/1532513143566l0.jpg\");'><!-- --> <img alt=\"고소하고 은은한 멸치의 풍미가 가득\" height=\"396\" onerror=\"this.src='https://res.kurly.com/mobile/img/1808/img_none_x2.png'\" src=\"https://img-cf.kurly.com/shop/data/goods/1532513143566l0.jpg\" width=\"308\"/></a> <!-- --> <span class=\"global_sticker\" style=\"display: none;\"><span class=\"inner_sticker\"><span class=\"bg_sticker\"></span> <span class=\"txt_sticker\"><span class=\"emph_sticker\">1+2</span> 이벤트</span></span></span> <!-- --> <div class=\"group_btn\"><button class=\"btn btn_cart\" type=\"button\"><span class=\"screen_out\">27302</span></button> <!-- --> <!-- --></div></div> <a class=\"info\"><span class=\"name\">                    [해통령] 천연 멸치 분말 60g(냉장)                </span> <span class=\"cost\"><span class=\"price\">6,000원</span> <!-- --></span> <span class=\"desc\">고소하고 은은한 멸치의 풍미가 가득</span> <span class=\"tag\"><!-- --></span></a></div>,\n",
       " <div class=\"item\"><div class=\"thumb\"><a class=\"img\" style='background-image: url(\"https://img-cf.kurly.com/shop/data/goods/1532512989105l0.jpg\");'><!-- --> <img alt=\"바다의 향과 영양이 가득\" height=\"396\" onerror=\"this.src='https://res.kurly.com/mobile/img/1808/img_none_x2.png'\" src=\"https://img-cf.kurly.com/shop/data/goods/1532512989105l0.jpg\" width=\"308\"/></a> <!-- --> <span class=\"global_sticker\" style=\"display: none;\"><span class=\"inner_sticker\"><span class=\"bg_sticker\"></span> <span class=\"txt_sticker\"><span class=\"emph_sticker\">1+2</span> 이벤트</span></span></span> <!-- --> <div class=\"group_btn\"><button class=\"btn btn_cart\" type=\"button\"><span class=\"screen_out\">27301</span></button> <!-- --> <!-- --></div></div> <a class=\"info\"><span class=\"name\">                    [해통령] 천연 다시마 분말 80g(냉장)                </span> <span class=\"cost\"><span class=\"price\">5,900원</span> <!-- --></span> <span class=\"desc\">바다의 향과 영양이 가득</span> <span class=\"tag\"><!-- --></span></a></div>,\n",
       " <div class=\"item\"><div class=\"thumb\"><a class=\"img\" style='background-image: url(\"https://img-cf.kurly.com/shop/data/goods/1536031589295l0.jpg\");'><!-- --> <img alt=\"남다른 맛의 중국 국민 간장\" height=\"396\" onerror=\"this.src='https://res.kurly.com/mobile/img/1808/img_none_x2.png'\" src=\"https://img-cf.kurly.com/shop/data/goods/1536031589295l0.jpg\" width=\"308\"/></a> <!-- --> <span class=\"global_sticker\" style=\"display: none;\"><span class=\"inner_sticker\"><span class=\"bg_sticker\"></span> <span class=\"txt_sticker\"><span class=\"emph_sticker\">1+2</span> 이벤트</span></span></span> <!-- --> <div class=\"group_btn\"><button class=\"btn btn_cart\" type=\"button\"><span class=\"screen_out\">29390</span></button> <!-- --> <!-- --></div></div> <a class=\"info\"><span class=\"name\">                    [해천] 해선간장                </span> <span class=\"cost\"><span class=\"price\">3,000원</span> <!-- --></span> <span class=\"desc\">남다른 맛의 중국 국민 간장</span> <span class=\"tag\"><!-- --></span></a></div>,\n",
       " <div class=\"item\"><div class=\"thumb\"><a class=\"img\" style='background-image: url(\"https://img-cf.kurly.com/shop/data/goods/1545184382215l0.jpg\");'><!-- --> <img alt=\"굽기만 하면 완성되는 바다의 맛\" height=\"396\" onerror=\"this.src='https://res.kurly.com/mobile/img/1808/img_none_x2.png'\" src=\"https://img-cf.kurly.com/shop/data/goods/1545184382215l0.jpg\" width=\"308\"/></a> <!-- --> <span class=\"global_sticker\" style=\"display: none;\"><span class=\"inner_sticker\"><span class=\"bg_sticker\"></span> <span class=\"txt_sticker\"><span class=\"emph_sticker\">1+2</span> 이벤트</span></span></span> <!-- --> <div class=\"group_btn\"><button class=\"btn btn_cart\" type=\"button\"><span class=\"screen_out\">32173</span></button> <!-- --> <!-- --></div></div> <a class=\"info\"><span class=\"name\">                    [Sea to Table] 매생이전 500g(냉동)                </span> <span class=\"cost\"><span class=\"price\">8,700원</span> <!-- --></span> <span class=\"desc\">굽기만 하면 완성되는 바다의 맛</span> <span class=\"tag\"><span class=\"ico limit\">Kurly only</span></span></a></div>,\n",
       " <div class=\"item\"><div class=\"thumb\"><a class=\"img\" style='background-image: url(\"https://img-cf.kurly.com/shop/data/goods/1464947514506l0.jpg\");'><!-- --> <img alt=\"NEW 헝가리안굴라쉬, 밤크림수프 오픈\" height=\"396\" onerror=\"this.src='https://res.kurly.com/mobile/img/1808/img_none_x2.png'\" src=\"https://img-cf.kurly.com/shop/data/goods/1464947514506l0.jpg\" width=\"308\"/></a> <!-- --> <span class=\"global_sticker\" style=\"display: none;\"><span class=\"inner_sticker\"><span class=\"bg_sticker\"></span> <span class=\"txt_sticker\"><span class=\"emph_sticker\">1+2</span> 이벤트</span></span></span> <!-- --> <div class=\"group_btn\"><button class=\"btn btn_cart\" type=\"button\"><span class=\"screen_out\">2749</span></button> <!-- --> <!-- --></div></div> <a class=\"info\"><span class=\"name\">                    [라쿠치나] 수프 6종                </span> <span class=\"cost\"><span class=\"price\">2,800원</span> <!-- --></span> <span class=\"desc\">NEW 헝가리안굴라쉬, 밤크림수프 오픈</span> <span class=\"tag\"><!-- --></span></a></div>,\n",
       " <div class=\"item\"><div class=\"thumb\"><a class=\"img\" style='background-image: url(\"https://img-cf.kurly.com/shop/data/goods/1578376593608l0.jpg\");'><!-- --> <img alt=\"입맛을 자극하는 짙은 초록빛\" height=\"396\" onerror=\"this.src='https://res.kurly.com/mobile/img/1808/img_none_x2.png'\" src=\"https://img-cf.kurly.com/shop/data/goods/1578376593608l0.jpg\" width=\"308\"/></a> <!-- --> <span class=\"global_sticker\" style=\"display: none;\"><span class=\"inner_sticker\"><span class=\"bg_sticker\"></span> <span class=\"txt_sticker\"><span class=\"emph_sticker\">1+2</span> 이벤트</span></span></span> <!-- --> <div class=\"group_btn\"><button class=\"btn btn_cart\" type=\"button\"><span class=\"screen_out\">47667</span></button> <!-- --> <!-- --></div></div> <a class=\"info\"><span class=\"name\">                    [삼삼물산] 녹차로 씻어낸 매생이 120g(냉장)                </span> <span class=\"cost\"><span class=\"price\">2,000원</span> <!-- --></span> <span class=\"desc\">입맛을 자극하는 짙은 초록빛</span> <span class=\"tag\"><!-- --></span></a></div>,\n",
       " <div class=\"item\"><div class=\"thumb\"><a class=\"img\" style='background-image: url(\"https://img-cf.kurly.com/shop/data/goods/1591255555976l0.jpg\");'><!-- --> <img alt=\"청정해역에서 거둔 깊은 초록빛\" height=\"396\" onerror=\"this.src='https://res.kurly.com/mobile/img/1808/img_none_x2.png'\" src=\"https://img-cf.kurly.com/shop/data/goods/1591255555976l0.jpg\" width=\"308\"/></a> <!-- --> <span class=\"global_sticker\" style=\"display: none;\"><span class=\"inner_sticker\"><span class=\"bg_sticker\"></span> <span class=\"txt_sticker\"><span class=\"emph_sticker\">1+2</span> 이벤트</span></span></span> <!-- --> <div class=\"group_btn\"><button class=\"btn btn_cart\" type=\"button\"><span class=\"screen_out\">52839</span></button> <!-- --> <!-- --></div></div> <a class=\"info\"><span class=\"name\">                    [우주] 완도 매생이 180g(냉동)                </span> <span class=\"cost\"><span class=\"price\">3,450원</span> <!-- --></span> <span class=\"desc\">청정해역에서 거둔 깊은 초록빛</span> <span class=\"tag\"><span class=\"ico limit\">Kurly only</span></span></a></div>,\n",
       " <div class=\"item\"><div class=\"thumb\"><a class=\"img\" style='background-image: url(\"https://img-cf.kurly.com/shop/data/goods/1576039657894l0.jpg\");'><!-- --> <img alt=\"시트러스한 향이 가득한\" height=\"396\" onerror=\"this.src='https://res.kurly.com/mobile/img/1808/img_none_x2.png'\" src=\"https://img-cf.kurly.com/shop/data/goods/1576039657894l0.jpg\" width=\"308\"/></a> <!-- --> <span class=\"global_sticker\" style=\"display: none;\"><span class=\"inner_sticker\"><span class=\"bg_sticker\"></span> <span class=\"txt_sticker\"><span class=\"emph_sticker\">1+2</span> 이벤트</span></span></span> <!-- --> <div class=\"group_btn\"><button class=\"btn btn_cart\" type=\"button\"><span class=\"screen_out\">44176</span></button> <!-- --> <!-- --></div></div> <a class=\"info\"><span class=\"name\">                    [김소영 아티장의 안단테] 노블 토닉 레몬을 넣은 화이트와인식초                </span> <span class=\"cost\"><span class=\"price\">38,000원</span> <!-- --></span> <span class=\"desc\">시트러스한 향이 가득한</span> <span class=\"tag\"><span class=\"ico limit\">Kurly only</span></span></a></div>,\n",
       " <div class=\"item\"><div class=\"thumb\"><a class=\"img\" style='background-image: url(\"https://img-cf.kurly.com/shop/data/goods/155987809216l0.jpg\");'><!-- --> <img alt=\"특별한 순간을 위한 티 푸드\" height=\"396\" onerror=\"this.src='https://res.kurly.com/mobile/img/1808/img_none_x2.png'\" src=\"https://img-cf.kurly.com/shop/data/goods/155987809216l0.jpg\" width=\"308\"/></a> <!-- --> <span class=\"global_sticker\" style=\"display: none;\"><span class=\"inner_sticker\"><span class=\"bg_sticker\"></span> <span class=\"txt_sticker\"><span class=\"emph_sticker\">1+2</span> 이벤트</span></span></span> <!-- --> <div class=\"group_btn\"><button class=\"btn btn_cart\" type=\"button\"><span class=\"screen_out\">35087</span></button> <!-- --> <!-- --></div></div> <a class=\"info\"><span class=\"name\">                    [굴리베르] 브로예 뒤 쁘아투 갈레트                </span> <span class=\"cost\"><span class=\"price\">9,500원</span> <!-- --></span> <span class=\"desc\">특별한 순간을 위한 티 푸드</span> <span class=\"tag\"><span class=\"ico limit\">Kurly only</span></span></a></div>,\n",
       " <div class=\"item\"><div class=\"thumb\"><a class=\"img\" style='background-image: url(\"https://img-cf.kurly.com/shop/data/goods/1590992097186l0.jpg\");'><!-- --> <img alt=\"바로 꺼내 쓰는 쌉쌀 고소한 풍미(100g/1팩)\" height=\"396\" onerror=\"this.src='https://res.kurly.com/mobile/img/1808/img_none_x2.png'\" src=\"https://img-cf.kurly.com/shop/data/goods/1590992097186l0.jpg\" width=\"308\"/></a> <!-- --> <span class=\"global_sticker\" style=\"display: none;\"><span class=\"inner_sticker\"><span class=\"bg_sticker\"></span> <span class=\"txt_sticker\"><span class=\"emph_sticker\">1+2</span> 이벤트</span></span></span> <a class=\"sold_out\"><span class=\"inner_soldout\">                        Coming Soon                        <!-- --></span></a> <div class=\"group_btn\"><!-- --> <button class=\"btn btn_alarm on\" data-goods-action=\"stocknoti\" data-goodsno=\"52851\" type=\"button\"><span class=\"screen_out\">재고알림 신청</span></button> <!-- --></div></div> <a class=\"info\"><span class=\"name\">                    [샐러딩] 루꼴라(아르굴라) 100g                </span> <span class=\"cost\"><span class=\"price\">3,800원</span> <!-- --></span> <span class=\"desc\">바로 꺼내 쓰는 쌉쌀 고소한 풍미(100g/1팩)</span> <span class=\"tag\"><!-- --></span></a></div>]"
      ]
     },
     "execution_count": 108,
     "metadata": {},
     "output_type": "execute_result"
    }
   ],
   "source": [
    "ss2= BeautifulSoup(html,\"html.parser\")\n",
    "ss2.select('.item')"
   ]
  },
  {
   "cell_type": "code",
   "execution_count": 127,
   "metadata": {},
   "outputs": [
    {
     "data": {
      "text/plain": [
       "[<span class=\"name\">                    [중앙씨푸드] 통영 굴 350g(냉동)                </span>,\n",
       " <span class=\"name\">                    [삼삼물산] 프리미엄 왕큰 굴 200g(대굴, 냉장)                </span>,\n",
       " <span class=\"name\">                    [삼삼물산] 굴밥용 생굴 200g(냉장)                </span>,\n",
       " <span class=\"name\">                    [삼삼물산] 굴국용 생굴 200g(냉장)                </span>,\n",
       " <span class=\"name\">                    [삼삼물산] 전 국민이 좋아하는 통영굴 200g 내외(중굴, 냉장)                </span>,\n",
       " <span class=\"name\">                    [중앙씨푸드] 생굴 150g(냉장)                </span>,\n",
       " <span class=\"name\">                    [삼삼물산] 신선한 국산 생굴 260g(냉장)                </span>,\n",
       " <span class=\"name\">                    [삼삼물산] 이력제 국산 생굴 135g(냉장)                </span>,\n",
       " <span class=\"name\">                    [삼삼물산] 온 가족이 즐기는 통영굴 900g내외(냉장)                </span>,\n",
       " <span class=\"name\">                    [삼삼물산] 트리플로이드 오이스터(개체굴) 2kg(생물)                </span>,\n",
       " <span class=\"name\">                    [해통령] 천연 굴 분말 70g(냉장)                </span>,\n",
       " <span class=\"name\">                    [정미경키친] 굴 순두부 맑은탕                </span>,\n",
       " <span class=\"name\">                    [삼삼물산X이태리식탁] 로제 굴 그라탕                </span>,\n",
       " <span class=\"name\">                    [삼삼물산X이태리식탁] 크림 굴 그라탕                </span>,\n",
       " <span class=\"name\">                    [삼삼물산] 자연산 남해안 돌굴 150g(소굴, 냉장)                </span>,\n",
       " <span class=\"name\">                    [맑은바다목장] 한잔N굴                </span>,\n",
       " <span class=\"name\">                    [탐나는밥상] 매생이 굴국                </span>,\n",
       " <span class=\"name\">                    [삼삼물산] 양념굴젓 180g(냉장)                </span>,\n",
       " <span class=\"name\">                    [굴다리식품] 새우젓 150g                </span>,\n",
       " <span class=\"name\">                    [굴다리식품] 멍게젓 150g                </span>,\n",
       " <span class=\"name\">                    [굴다리식품] 꼴뚜기젓 150g                </span>,\n",
       " <span class=\"name\">                    [굴다리식품] 김장용 새우젓 4종(냉장)                </span>,\n",
       " <span class=\"name\">                    [굴다리식품] 창난젓 150g                </span>,\n",
       " <span class=\"name\">                    [굴다리식품] 오징어젓 150g                </span>,\n",
       " <span class=\"name\">                    [굴다리식품] 낙지젓 150g                </span>,\n",
       " <span class=\"name\">                    [굴다리식품] 갈치쌈장젓 150g                </span>,\n",
       " <span class=\"name\">                    [굴다리식품] 명태회 초무말랭이 무침(냉장)                </span>,\n",
       " <span class=\"name\">                    [전사랑] 전통 녹두전 4종                </span>,\n",
       " <span class=\"name\">                    [굴다리식품] 명태회 초무침 2종(냉장)                </span>,\n",
       " <span class=\"name\">                    [해통령] 천연 꽃게 분말 60g(냉장)                </span>,\n",
       " <span class=\"name\">                    [해통령] 천연 새우 분말 60g(냉장)                </span>,\n",
       " <span class=\"name\">                    [해통령] 천연 홍합 분말 70g(냉장)                </span>,\n",
       " <span class=\"name\">                    [진가네반찬] 배추포기김치 3종                </span>,\n",
       " <span class=\"name\">                    [해통령] 천연 표고버섯 분말 35g(냉장)                </span>,\n",
       " <span class=\"name\">                    [해통령] 천연 멸치 분말 60g(냉장)                </span>,\n",
       " <span class=\"name\">                    [해통령] 천연 다시마 분말 80g(냉장)                </span>,\n",
       " <span class=\"name\">                    [해천] 해선간장                </span>,\n",
       " <span class=\"name\">                    [Sea to Table] 매생이전 500g(냉동)                </span>,\n",
       " <span class=\"name\">                    [라쿠치나] 수프 6종                </span>,\n",
       " <span class=\"name\">                    [삼삼물산] 녹차로 씻어낸 매생이 120g(냉장)                </span>,\n",
       " <span class=\"name\">                    [우주] 완도 매생이 180g(냉동)                </span>,\n",
       " <span class=\"name\">                    [김소영 아티장의 안단테] 노블 토닉 레몬을 넣은 화이트와인식초                </span>,\n",
       " <span class=\"name\">                    [굴리베르] 브로예 뒤 쁘아투 갈레트                </span>,\n",
       " <span class=\"name\">                    [샐러딩] 루꼴라(아르굴라) 100g                </span>]"
      ]
     },
     "execution_count": 127,
     "metadata": {},
     "output_type": "execute_result"
    }
   ],
   "source": [
    "#ss.select('d>div.title')\n",
    "ss2.select('a.info>span.name')\n",
    "\n"
   ]
  },
  {
   "cell_type": "code",
   "execution_count": 128,
   "metadata": {},
   "outputs": [
    {
     "data": {
      "text/plain": [
       "[<span class=\"price\">5,300원</span>,\n",
       " <span class=\"price\">6,900원</span>,\n",
       " <span class=\"price\">7,900원</span>,\n",
       " <span class=\"price\">7,900원</span>,\n",
       " <span class=\"price\">7,900원</span>,\n",
       " <span class=\"price\">4,900원</span>,\n",
       " <span class=\"price\">7,500원</span>,\n",
       " <span class=\"price\">2,925원</span>,\n",
       " <span class=\"price\">23,100원</span>,\n",
       " <span class=\"price\">41,650원</span>,\n",
       " <span class=\"price\">7,200원</span>,\n",
       " <span class=\"price\">7,900원</span>,\n",
       " <span class=\"price\">7,900원</span>,\n",
       " <span class=\"price\">7,900원</span>,\n",
       " <span class=\"price\">7,650원</span>,\n",
       " <span class=\"price\">2,640원</span>,\n",
       " <span class=\"price\">4,500원</span>,\n",
       " <span class=\"price\">7,900원</span>,\n",
       " <span class=\"price\">13,700원</span>,\n",
       " <span class=\"price\">9,500원</span>,\n",
       " <span class=\"price\">6,800원</span>,\n",
       " <span class=\"price\">16,500원</span>,\n",
       " <span class=\"price\">6,800원</span>,\n",
       " <span class=\"price\">6,800원</span>,\n",
       " <span class=\"price\">6,800원</span>,\n",
       " <span class=\"price\">4,800원</span>,\n",
       " <span class=\"price\">4,900원</span>,\n",
       " <span class=\"price\">5,900원</span>,\n",
       " <span class=\"price\">4,900원</span>,\n",
       " <span class=\"price\">6,800원</span>,\n",
       " <span class=\"price\">6,800원</span>,\n",
       " <span class=\"price\">6,900원</span>,\n",
       " <span class=\"price\">36,000원</span>,\n",
       " <span class=\"price\">6,200원</span>,\n",
       " <span class=\"price\">6,000원</span>,\n",
       " <span class=\"price\">5,900원</span>,\n",
       " <span class=\"price\">3,000원</span>,\n",
       " <span class=\"price\">8,700원</span>,\n",
       " <span class=\"price\">2,800원</span>,\n",
       " <span class=\"price\">2,000원</span>,\n",
       " <span class=\"price\">3,450원</span>,\n",
       " <span class=\"price\">38,000원</span>,\n",
       " <span class=\"price\">9,500원</span>,\n",
       " <span class=\"price\">3,800원</span>]"
      ]
     },
     "execution_count": 128,
     "metadata": {},
     "output_type": "execute_result"
    }
   ],
   "source": [
    "ss2.select('span.price')"
   ]
  },
  {
   "cell_type": "code",
   "execution_count": 129,
   "metadata": {},
   "outputs": [],
   "source": [
    "pd=ss2.select('span.price')\n",
    "\n",
    "ac=[]\n",
    "for i in pd:\n",
    "    ac.append(i.get_text())"
   ]
  },
  {
   "cell_type": "code",
   "execution_count": 130,
   "metadata": {},
   "outputs": [
    {
     "data": {
      "text/plain": [
       "['5,300원',\n",
       " '6,900원',\n",
       " '7,900원',\n",
       " '7,900원',\n",
       " '7,900원',\n",
       " '4,900원',\n",
       " '7,500원',\n",
       " '2,925원',\n",
       " '23,100원',\n",
       " '41,650원',\n",
       " '7,200원',\n",
       " '7,900원',\n",
       " '7,900원',\n",
       " '7,900원',\n",
       " '7,650원',\n",
       " '2,640원',\n",
       " '4,500원',\n",
       " '7,900원',\n",
       " '13,700원',\n",
       " '9,500원',\n",
       " '6,800원',\n",
       " '16,500원',\n",
       " '6,800원',\n",
       " '6,800원',\n",
       " '6,800원',\n",
       " '4,800원',\n",
       " '4,900원',\n",
       " '5,900원',\n",
       " '4,900원',\n",
       " '6,800원',\n",
       " '6,800원',\n",
       " '6,900원',\n",
       " '36,000원',\n",
       " '6,200원',\n",
       " '6,000원',\n",
       " '5,900원',\n",
       " '3,000원',\n",
       " '8,700원',\n",
       " '2,800원',\n",
       " '2,000원',\n",
       " '3,450원',\n",
       " '38,000원',\n",
       " '9,500원',\n",
       " '3,800원']"
      ]
     },
     "execution_count": 130,
     "metadata": {},
     "output_type": "execute_result"
    }
   ],
   "source": [
    "ac"
   ]
  },
  {
   "cell_type": "code",
   "execution_count": 120,
   "metadata": {},
   "outputs": [
    {
     "data": {
      "text/plain": [
       "[<div class=\"price\"><strong class=\"tit\">합계</strong> <!-- --> <span class=\"sum\"><span class=\"num\">0</span> <span class=\"won\">원</span></span></div>]"
      ]
     },
     "execution_count": 120,
     "metadata": {},
     "output_type": "execute_result"
    }
   ],
   "source": [
    "ss2.select('div.price')"
   ]
  },
  {
   "cell_type": "code",
   "execution_count": 154,
   "metadata": {},
   "outputs": [
    {
     "name": "stdout",
     "output_type": "stream",
     "text": [
      "5,300원\n",
      "6,900원\n",
      "7,900원\n",
      "7,900원\n",
      "7,900원\n",
      "4,900원\n",
      "7,500원\n",
      "2,925원\n",
      "23,100원\n",
      "41,650원\n",
      "7,200원\n",
      "7,900원\n",
      "7,900원\n",
      "7,900원\n",
      "7,650원\n",
      "2,640원\n",
      "4,500원\n",
      "7,900원\n",
      "13,700원\n",
      "9,500원\n",
      "6,800원\n",
      "16,500원\n",
      "6,800원\n",
      "6,800원\n",
      "6,800원\n",
      "4,800원\n",
      "4,900원\n",
      "5,900원\n",
      "4,900원\n",
      "6,800원\n",
      "6,800원\n",
      "6,900원\n",
      "36,000원\n",
      "6,200원\n",
      "6,000원\n",
      "5,900원\n",
      "3,000원\n",
      "8,700원\n",
      "2,800원\n",
      "2,000원\n",
      "3,450원\n",
      "38,000원\n",
      "9,500원\n",
      "3,800원\n",
      "합계  0 원\n"
     ]
    }
   ],
   "source": [
    "res = soup.find_all(class_=\"price\")\n",
    "\n",
    "\n",
    "pri=[]\n",
    "for n in res:\n",
    "#.get_text()\n",
    "    pri.append(n.get_text())\n",
    "    print(n.get_text())"
   ]
  },
  {
   "cell_type": "code",
   "execution_count": 155,
   "metadata": {},
   "outputs": [
    {
     "data": {
      "text/plain": [
       "['5,300원',\n",
       " '6,900원',\n",
       " '7,900원',\n",
       " '7,900원',\n",
       " '7,900원',\n",
       " '4,900원',\n",
       " '7,500원',\n",
       " '2,925원',\n",
       " '23,100원',\n",
       " '41,650원',\n",
       " '7,200원',\n",
       " '7,900원',\n",
       " '7,900원',\n",
       " '7,900원',\n",
       " '7,650원',\n",
       " '2,640원',\n",
       " '4,500원',\n",
       " '7,900원',\n",
       " '13,700원',\n",
       " '9,500원',\n",
       " '6,800원',\n",
       " '16,500원',\n",
       " '6,800원',\n",
       " '6,800원',\n",
       " '6,800원',\n",
       " '4,800원',\n",
       " '4,900원',\n",
       " '5,900원',\n",
       " '4,900원',\n",
       " '6,800원',\n",
       " '6,800원',\n",
       " '6,900원',\n",
       " '36,000원',\n",
       " '6,200원',\n",
       " '6,000원',\n",
       " '5,900원',\n",
       " '3,000원',\n",
       " '8,700원',\n",
       " '2,800원',\n",
       " '2,000원',\n",
       " '3,450원',\n",
       " '38,000원',\n",
       " '9,500원',\n",
       " '3,800원',\n",
       " '합계  0 원']"
      ]
     },
     "execution_count": 155,
     "metadata": {},
     "output_type": "execute_result"
    }
   ],
   "source": [
    "pri"
   ]
  },
  {
   "cell_type": "code",
   "execution_count": 135,
   "metadata": {},
   "outputs": [],
   "source": [
    "aa=ss2.select('a.info>span.name')"
   ]
  },
  {
   "cell_type": "code",
   "execution_count": 136,
   "metadata": {},
   "outputs": [],
   "source": [
    "c=[]\n",
    "for pa in aa:\n",
    "  \n",
    "    d=pa.get_text()\n",
    "    c.append(d)"
   ]
  },
  {
   "cell_type": "code",
   "execution_count": 143,
   "metadata": {},
   "outputs": [
    {
     "data": {
      "text/plain": [
       "['                    [중앙씨푸드] 통영 굴 350g(냉동)                ',\n",
       " '                    [삼삼물산] 프리미엄 왕큰 굴 200g(대굴, 냉장)                ',\n",
       " '                    [삼삼물산] 굴밥용 생굴 200g(냉장)                ',\n",
       " '                    [삼삼물산] 굴국용 생굴 200g(냉장)                ',\n",
       " '                    [삼삼물산] 전 국민이 좋아하는 통영굴 200g 내외(중굴, 냉장)                ',\n",
       " '                    [중앙씨푸드] 생굴 150g(냉장)                ',\n",
       " '                    [삼삼물산] 신선한 국산 생굴 260g(냉장)                ',\n",
       " '                    [삼삼물산] 이력제 국산 생굴 135g(냉장)                ',\n",
       " '                    [삼삼물산] 온 가족이 즐기는 통영굴 900g내외(냉장)                ',\n",
       " '                    [삼삼물산] 트리플로이드 오이스터(개체굴) 2kg(생물)                ',\n",
       " '                    [해통령] 천연 굴 분말 70g(냉장)                ',\n",
       " '                    [정미경키친] 굴 순두부 맑은탕                ',\n",
       " '                    [삼삼물산X이태리식탁] 로제 굴 그라탕                ',\n",
       " '                    [삼삼물산X이태리식탁] 크림 굴 그라탕                ',\n",
       " '                    [삼삼물산] 자연산 남해안 돌굴 150g(소굴, 냉장)                ',\n",
       " '                    [맑은바다목장] 한잔N굴                ',\n",
       " '                    [탐나는밥상] 매생이 굴국                ',\n",
       " '                    [삼삼물산] 양념굴젓 180g(냉장)                ',\n",
       " '                    [굴다리식품] 새우젓 150g                ',\n",
       " '                    [굴다리식품] 멍게젓 150g                ',\n",
       " '                    [굴다리식품] 꼴뚜기젓 150g                ',\n",
       " '                    [굴다리식품] 김장용 새우젓 4종(냉장)                ',\n",
       " '                    [굴다리식품] 창난젓 150g                ',\n",
       " '                    [굴다리식품] 오징어젓 150g                ',\n",
       " '                    [굴다리식품] 낙지젓 150g                ',\n",
       " '                    [굴다리식품] 갈치쌈장젓 150g                ',\n",
       " '                    [굴다리식품] 명태회 초무말랭이 무침(냉장)                ',\n",
       " '                    [전사랑] 전통 녹두전 4종                ',\n",
       " '                    [굴다리식품] 명태회 초무침 2종(냉장)                ',\n",
       " '                    [해통령] 천연 꽃게 분말 60g(냉장)                ',\n",
       " '                    [해통령] 천연 새우 분말 60g(냉장)                ',\n",
       " '                    [해통령] 천연 홍합 분말 70g(냉장)                ',\n",
       " '                    [진가네반찬] 배추포기김치 3종                ',\n",
       " '                    [해통령] 천연 표고버섯 분말 35g(냉장)                ',\n",
       " '                    [해통령] 천연 멸치 분말 60g(냉장)                ',\n",
       " '                    [해통령] 천연 다시마 분말 80g(냉장)                ',\n",
       " '                    [해천] 해선간장                ',\n",
       " '                    [Sea to Table] 매생이전 500g(냉동)                ',\n",
       " '                    [라쿠치나] 수프 6종                ',\n",
       " '                    [삼삼물산] 녹차로 씻어낸 매생이 120g(냉장)                ',\n",
       " '                    [우주] 완도 매생이 180g(냉동)                ',\n",
       " '                    [김소영 아티장의 안단테] 노블 토닉 레몬을 넣은 화이트와인식초                ',\n",
       " '                    [굴리베르] 브로예 뒤 쁘아투 갈레트                ',\n",
       " '                    [샐러딩] 루꼴라(아르굴라) 100g                ']"
      ]
     },
     "execution_count": 143,
     "metadata": {},
     "output_type": "execute_result"
    }
   ],
   "source": [
    "c"
   ]
  },
  {
   "cell_type": "code",
   "execution_count": 163,
   "metadata": {},
   "outputs": [],
   "source": [
    "data2=list(zip(c,ac))"
   ]
  },
  {
   "cell_type": "code",
   "execution_count": 150,
   "metadata": {},
   "outputs": [],
   "source": [
    "data2=zip(c,pri)"
   ]
  },
  {
   "cell_type": "code",
   "execution_count": 164,
   "metadata": {},
   "outputs": [
    {
     "data": {
      "text/plain": [
       "[('                    [중앙씨푸드] 통영 굴 350g(냉동)                ', '5,300원'),\n",
       " ('                    [삼삼물산] 프리미엄 왕큰 굴 200g(대굴, 냉장)                ',\n",
       "  '6,900원'),\n",
       " ('                    [삼삼물산] 굴밥용 생굴 200g(냉장)                ', '7,900원'),\n",
       " ('                    [삼삼물산] 굴국용 생굴 200g(냉장)                ', '7,900원'),\n",
       " ('                    [삼삼물산] 전 국민이 좋아하는 통영굴 200g 내외(중굴, 냉장)                ',\n",
       "  '7,900원'),\n",
       " ('                    [중앙씨푸드] 생굴 150g(냉장)                ', '4,900원'),\n",
       " ('                    [삼삼물산] 신선한 국산 생굴 260g(냉장)                ', '7,500원'),\n",
       " ('                    [삼삼물산] 이력제 국산 생굴 135g(냉장)                ', '2,925원'),\n",
       " ('                    [삼삼물산] 온 가족이 즐기는 통영굴 900g내외(냉장)                ',\n",
       "  '23,100원'),\n",
       " ('                    [삼삼물산] 트리플로이드 오이스터(개체굴) 2kg(생물)                ',\n",
       "  '41,650원'),\n",
       " ('                    [해통령] 천연 굴 분말 70g(냉장)                ', '7,200원'),\n",
       " ('                    [정미경키친] 굴 순두부 맑은탕                ', '7,900원'),\n",
       " ('                    [삼삼물산X이태리식탁] 로제 굴 그라탕                ', '7,900원'),\n",
       " ('                    [삼삼물산X이태리식탁] 크림 굴 그라탕                ', '7,900원'),\n",
       " ('                    [삼삼물산] 자연산 남해안 돌굴 150g(소굴, 냉장)                ',\n",
       "  '7,650원'),\n",
       " ('                    [맑은바다목장] 한잔N굴                ', '2,640원'),\n",
       " ('                    [탐나는밥상] 매생이 굴국                ', '4,500원'),\n",
       " ('                    [삼삼물산] 양념굴젓 180g(냉장)                ', '7,900원'),\n",
       " ('                    [굴다리식품] 새우젓 150g                ', '13,700원'),\n",
       " ('                    [굴다리식품] 멍게젓 150g                ', '9,500원'),\n",
       " ('                    [굴다리식품] 꼴뚜기젓 150g                ', '6,800원'),\n",
       " ('                    [굴다리식품] 김장용 새우젓 4종(냉장)                ', '16,500원'),\n",
       " ('                    [굴다리식품] 창난젓 150g                ', '6,800원'),\n",
       " ('                    [굴다리식품] 오징어젓 150g                ', '6,800원'),\n",
       " ('                    [굴다리식품] 낙지젓 150g                ', '6,800원'),\n",
       " ('                    [굴다리식품] 갈치쌈장젓 150g                ', '4,800원'),\n",
       " ('                    [굴다리식품] 명태회 초무말랭이 무침(냉장)                ', '4,900원'),\n",
       " ('                    [전사랑] 전통 녹두전 4종                ', '5,900원'),\n",
       " ('                    [굴다리식품] 명태회 초무침 2종(냉장)                ', '4,900원'),\n",
       " ('                    [해통령] 천연 꽃게 분말 60g(냉장)                ', '6,800원'),\n",
       " ('                    [해통령] 천연 새우 분말 60g(냉장)                ', '6,800원'),\n",
       " ('                    [해통령] 천연 홍합 분말 70g(냉장)                ', '6,900원'),\n",
       " ('                    [진가네반찬] 배추포기김치 3종                ', '36,000원'),\n",
       " ('                    [해통령] 천연 표고버섯 분말 35g(냉장)                ', '6,200원'),\n",
       " ('                    [해통령] 천연 멸치 분말 60g(냉장)                ', '6,000원'),\n",
       " ('                    [해통령] 천연 다시마 분말 80g(냉장)                ', '5,900원'),\n",
       " ('                    [해천] 해선간장                ', '3,000원'),\n",
       " ('                    [Sea to Table] 매생이전 500g(냉동)                ',\n",
       "  '8,700원'),\n",
       " ('                    [라쿠치나] 수프 6종                ', '2,800원'),\n",
       " ('                    [삼삼물산] 녹차로 씻어낸 매생이 120g(냉장)                ', '2,000원'),\n",
       " ('                    [우주] 완도 매생이 180g(냉동)                ', '3,450원'),\n",
       " ('                    [김소영 아티장의 안단테] 노블 토닉 레몬을 넣은 화이트와인식초                ',\n",
       "  '38,000원'),\n",
       " ('                    [굴리베르] 브로예 뒤 쁘아투 갈레트                ', '9,500원'),\n",
       " ('                    [샐러딩] 루꼴라(아르굴라) 100g                ', '3,800원')]"
      ]
     },
     "execution_count": 164,
     "metadata": {},
     "output_type": "execute_result"
    }
   ],
   "source": [
    "data2"
   ]
  },
  {
   "cell_type": "code",
   "execution_count": 165,
   "metadata": {},
   "outputs": [
    {
     "name": "stdout",
     "output_type": "stream",
     "text": [
      "[('                    [중앙씨푸드] 통영 굴 350g(냉동)                ', '5,300원'), ('                    [삼삼물산] 프리미엄 왕큰 굴 200g(대굴, 냉장)                ', '6,900원'), ('                    [삼삼물산] 굴밥용 생굴 200g(냉장)                ', '7,900원'), ('                    [삼삼물산] 굴국용 생굴 200g(냉장)                ', '7,900원'), ('                    [삼삼물산] 전 국민이 좋아하는 통영굴 200g 내외(중굴, 냉장)                ', '7,900원'), ('                    [중앙씨푸드] 생굴 150g(냉장)                ', '4,900원'), ('                    [삼삼물산] 신선한 국산 생굴 260g(냉장)                ', '7,500원'), ('                    [삼삼물산] 이력제 국산 생굴 135g(냉장)                ', '2,925원'), ('                    [삼삼물산] 온 가족이 즐기는 통영굴 900g내외(냉장)                ', '23,100원'), ('                    [삼삼물산] 트리플로이드 오이스터(개체굴) 2kg(생물)                ', '41,650원'), ('                    [해통령] 천연 굴 분말 70g(냉장)                ', '7,200원'), ('                    [정미경키친] 굴 순두부 맑은탕                ', '7,900원'), ('                    [삼삼물산X이태리식탁] 로제 굴 그라탕                ', '7,900원'), ('                    [삼삼물산X이태리식탁] 크림 굴 그라탕                ', '7,900원'), ('                    [삼삼물산] 자연산 남해안 돌굴 150g(소굴, 냉장)                ', '7,650원'), ('                    [맑은바다목장] 한잔N굴                ', '2,640원'), ('                    [탐나는밥상] 매생이 굴국                ', '4,500원'), ('                    [삼삼물산] 양념굴젓 180g(냉장)                ', '7,900원'), ('                    [굴다리식품] 새우젓 150g                ', '13,700원'), ('                    [굴다리식품] 멍게젓 150g                ', '9,500원'), ('                    [굴다리식품] 꼴뚜기젓 150g                ', '6,800원'), ('                    [굴다리식품] 김장용 새우젓 4종(냉장)                ', '16,500원'), ('                    [굴다리식품] 창난젓 150g                ', '6,800원'), ('                    [굴다리식품] 오징어젓 150g                ', '6,800원'), ('                    [굴다리식품] 낙지젓 150g                ', '6,800원'), ('                    [굴다리식품] 갈치쌈장젓 150g                ', '4,800원'), ('                    [굴다리식품] 명태회 초무말랭이 무침(냉장)                ', '4,900원'), ('                    [전사랑] 전통 녹두전 4종                ', '5,900원'), ('                    [굴다리식품] 명태회 초무침 2종(냉장)                ', '4,900원'), ('                    [해통령] 천연 꽃게 분말 60g(냉장)                ', '6,800원'), ('                    [해통령] 천연 새우 분말 60g(냉장)                ', '6,800원'), ('                    [해통령] 천연 홍합 분말 70g(냉장)                ', '6,900원'), ('                    [진가네반찬] 배추포기김치 3종                ', '36,000원'), ('                    [해통령] 천연 표고버섯 분말 35g(냉장)                ', '6,200원'), ('                    [해통령] 천연 멸치 분말 60g(냉장)                ', '6,000원'), ('                    [해통령] 천연 다시마 분말 80g(냉장)                ', '5,900원'), ('                    [해천] 해선간장                ', '3,000원'), ('                    [Sea to Table] 매생이전 500g(냉동)                ', '8,700원'), ('                    [라쿠치나] 수프 6종                ', '2,800원'), ('                    [삼삼물산] 녹차로 씻어낸 매생이 120g(냉장)                ', '2,000원'), ('                    [우주] 완도 매생이 180g(냉동)                ', '3,450원'), ('                    [김소영 아티장의 안단테] 노블 토닉 레몬을 넣은 화이트와인식초                ', '38,000원'), ('                    [굴리베르] 브로예 뒤 쁘아투 갈레트                ', '9,500원'), ('                    [샐러딩] 루꼴라(아르굴라) 100g                ', '3,800원')]\n"
     ]
    }
   ],
   "source": [
    "print(data2)\n",
    "data2=pd.DataFrame(data2)\n",
    "data2.to_excel(excel_writer='마켓컬리2.xlsx')"
   ]
  },
  {
   "cell_type": "code",
   "execution_count": null,
   "metadata": {},
   "outputs": [],
   "source": []
  }
 ],
 "metadata": {
  "kernelspec": {
   "display_name": "Python 3",
   "language": "python",
   "name": "python3"
  },
  "language_info": {
   "codemirror_mode": {
    "name": "ipython",
    "version": 3
   },
   "file_extension": ".py",
   "mimetype": "text/x-python",
   "name": "python",
   "nbconvert_exporter": "python",
   "pygments_lexer": "ipython3",
   "version": "3.8.5"
  }
 },
 "nbformat": 4,
 "nbformat_minor": 4
}
